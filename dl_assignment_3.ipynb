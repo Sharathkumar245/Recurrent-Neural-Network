{
  "metadata": {
    "kernelspec": {
      "language": "python",
      "display_name": "Python 3",
      "name": "python3"
    },
    "language_info": {
      "name": "python",
      "version": "3.10.13",
      "mimetype": "text/x-python",
      "codemirror_mode": {
        "name": "ipython",
        "version": 3
      },
      "pygments_lexer": "ipython3",
      "nbconvert_exporter": "python",
      "file_extension": ".py"
    },
    "kaggle": {
      "accelerator": "none",
      "dataSources": [
        {
          "sourceId": 8423370,
          "sourceType": "datasetVersion",
          "datasetId": 5015097
        }
      ],
      "dockerImageVersionId": 30699,
      "isInternetEnabled": true,
      "language": "python",
      "sourceType": "notebook",
      "isGpuEnabled": false
    },
    "colab": {
      "provenance": []
    }
  },
  "nbformat_minor": 0,
  "nbformat": 4,
  "cells": [
    {
      "cell_type": "code",
      "source": [
        "# This Python 3 environment comes with many helpful analytics libraries installed\n",
        "# It is defined by the kaggle/python Docker image: https://github.com/kaggle/docker-python\n",
        "# For example, here's several helpful packages to load\n",
        "\n",
        "import numpy as np # linear algebra\n",
        "import pandas as pd # data processing, CSV file I/O (e.g. pd.read_csv)\n",
        "\n",
        "# Input data files are available in the read-only \"../input/\" directory\n",
        "# For example, running this (by clicking run or pressing Shift+Enter) will list all files under the input directory\n",
        "\n",
        "import os\n",
        "for dirname, _, filenames in os.walk('/kaggle/input'):\n",
        "    for filename in filenames:\n",
        "        print(os.path.join(dirname, filename))\n",
        "\n",
        "# You can write up to 20GB to the current directory (/kaggle/working/) that gets preserved as output when you create a version using \"Save & Run All\"\n",
        "# You can also write temporary files to /kaggle/temp/, but they won't be saved outside of the current session"
      ],
      "metadata": {
        "_uuid": "8f2839f25d086af736a60e9eeb907d3b93b6e0e5",
        "_cell_guid": "b1076dfc-b9ad-4769-8c92-a6c4dae69d19",
        "execution": {
          "iopub.status.busy": "2024-05-17T09:26:51.491806Z",
          "iopub.execute_input": "2024-05-17T09:26:51.492136Z",
          "iopub.status.idle": "2024-05-17T09:26:52.677158Z",
          "shell.execute_reply.started": "2024-05-17T09:26:51.492108Z",
          "shell.execute_reply": "2024-05-17T09:26:52.675816Z"
        },
        "trusted": true,
        "id": "nFUYHTgGmhTa",
        "outputId": "57069b84-fa34-48c8-987c-7ae77e5fb049"
      },
      "execution_count": null,
      "outputs": [
        {
          "name": "stdout",
          "text": "/kaggle/input/aksharantardataset/aksharantar_sampled/brx/brx_test.csv\n/kaggle/input/aksharantardataset/aksharantar_sampled/brx/brx_valid.csv\n/kaggle/input/aksharantardataset/aksharantar_sampled/brx/brx_train.csv\n/kaggle/input/aksharantardataset/aksharantar_sampled/tam/tam_valid.csv\n/kaggle/input/aksharantardataset/aksharantar_sampled/tam/tam_train.csv\n/kaggle/input/aksharantardataset/aksharantar_sampled/tam/tam_test.csv\n/kaggle/input/aksharantardataset/aksharantar_sampled/mni/mni_valid.csv\n/kaggle/input/aksharantardataset/aksharantar_sampled/mni/mni_test.csv\n/kaggle/input/aksharantardataset/aksharantar_sampled/mni/mni_train.csv\n/kaggle/input/aksharantardataset/aksharantar_sampled/urd/urd_train.csv\n/kaggle/input/aksharantardataset/aksharantar_sampled/urd/urd_valid.csv\n/kaggle/input/aksharantardataset/aksharantar_sampled/urd/urd_test.csv\n/kaggle/input/aksharantardataset/aksharantar_sampled/kok/kok_valid.csv\n/kaggle/input/aksharantardataset/aksharantar_sampled/kok/kok_train.csv\n/kaggle/input/aksharantardataset/aksharantar_sampled/kok/kok_test.csv\n/kaggle/input/aksharantardataset/aksharantar_sampled/mai/mai_test.csv\n/kaggle/input/aksharantardataset/aksharantar_sampled/mai/mai_train.csv\n/kaggle/input/aksharantardataset/aksharantar_sampled/mai/mai_valid.csv\n/kaggle/input/aksharantardataset/aksharantar_sampled/guj/guj_test.csv\n/kaggle/input/aksharantardataset/aksharantar_sampled/guj/guj_train.csv\n/kaggle/input/aksharantardataset/aksharantar_sampled/guj/guj_valid.csv\n/kaggle/input/aksharantardataset/aksharantar_sampled/ben/ben_train.csv\n/kaggle/input/aksharantardataset/aksharantar_sampled/ben/ben_test.csv\n/kaggle/input/aksharantardataset/aksharantar_sampled/ben/ben_valid.csv\n/kaggle/input/aksharantardataset/aksharantar_sampled/tel/tel_test.csv\n/kaggle/input/aksharantardataset/aksharantar_sampled/tel/tel_valid.csv\n/kaggle/input/aksharantardataset/aksharantar_sampled/tel/tel_train.csv\n/kaggle/input/aksharantardataset/aksharantar_sampled/kas/kas_valid.csv\n/kaggle/input/aksharantardataset/aksharantar_sampled/kas/kas_train.csv\n/kaggle/input/aksharantardataset/aksharantar_sampled/kas/kas_test.csv\n/kaggle/input/aksharantardataset/aksharantar_sampled/kan/kan_valid.csv\n/kaggle/input/aksharantardataset/aksharantar_sampled/kan/kan_train.csv\n/kaggle/input/aksharantardataset/aksharantar_sampled/kan/kan_test.csv\n/kaggle/input/aksharantardataset/aksharantar_sampled/mal/mal_test.csv\n/kaggle/input/aksharantardataset/aksharantar_sampled/mal/mal_train.csv\n/kaggle/input/aksharantardataset/aksharantar_sampled/mal/mal_valid.csv\n/kaggle/input/aksharantardataset/aksharantar_sampled/pan/pan_valid.csv\n/kaggle/input/aksharantardataset/aksharantar_sampled/pan/pan_test.csv\n/kaggle/input/aksharantardataset/aksharantar_sampled/pan/pan_train.csv\n/kaggle/input/aksharantardataset/aksharantar_sampled/asm/asm_test.csv\n/kaggle/input/aksharantardataset/aksharantar_sampled/asm/asm_train.csv\n/kaggle/input/aksharantardataset/aksharantar_sampled/asm/asm_valid.csv\n/kaggle/input/aksharantardataset/aksharantar_sampled/sid/sid_train.csv\n/kaggle/input/aksharantardataset/aksharantar_sampled/sid/sid_test.csv\n/kaggle/input/aksharantardataset/aksharantar_sampled/sid/sid_valid.csv\n/kaggle/input/aksharantardataset/aksharantar_sampled/mar/mar_train.csv\n/kaggle/input/aksharantardataset/aksharantar_sampled/mar/mar_test.csv\n/kaggle/input/aksharantardataset/aksharantar_sampled/mar/mar_valid.csv\n/kaggle/input/aksharantardataset/aksharantar_sampled/san/san_train.csv\n/kaggle/input/aksharantardataset/aksharantar_sampled/san/san_valid.csv\n/kaggle/input/aksharantardataset/aksharantar_sampled/san/san_test.csv\n/kaggle/input/aksharantardataset/aksharantar_sampled/hin/hin_valid.csv\n/kaggle/input/aksharantardataset/aksharantar_sampled/hin/hin_test.csv\n/kaggle/input/aksharantardataset/aksharantar_sampled/hin/hin_train.csv\n/kaggle/input/aksharantardataset/aksharantar_sampled/ori/ori_test.csv\n/kaggle/input/aksharantardataset/aksharantar_sampled/ori/ori_train.csv\n/kaggle/input/aksharantardataset/aksharantar_sampled/ori/ori_valid.csv\n",
          "output_type": "stream"
        }
      ]
    },
    {
      "cell_type": "code",
      "source": [
        "!pip install torchvision\n",
        "import torch.nn as nn\n",
        "import torch.nn.functional as func\n",
        "import torch.optim as optim\n",
        "import torch.utils.data as data\n",
        "from torchvision import datasets,transforms\n",
        "import numpy as np\n",
        "import matplotlib.pyplot as plt\n",
        "import math\n",
        "import torch\n",
        "import torchvision.transforms as transforms\n",
        "from torchvision.datasets import ImageFolder\n",
        "import pandas as pd\n",
        "import random"
      ],
      "metadata": {
        "execution": {
          "iopub.status.busy": "2024-05-17T09:28:04.326646Z",
          "iopub.execute_input": "2024-05-17T09:28:04.327465Z",
          "iopub.status.idle": "2024-05-17T09:28:24.776720Z",
          "shell.execute_reply.started": "2024-05-17T09:28:04.327431Z",
          "shell.execute_reply": "2024-05-17T09:28:24.775796Z"
        },
        "trusted": true,
        "id": "ubP4mo0wmhTc",
        "outputId": "3dffe723-3a4b-4f74-c66b-d171631976c3"
      },
      "execution_count": null,
      "outputs": [
        {
          "name": "stdout",
          "text": "Requirement already satisfied: torchvision in /opt/conda/lib/python3.10/site-packages (0.16.2)\nRequirement already satisfied: numpy in /opt/conda/lib/python3.10/site-packages (from torchvision) (1.26.4)\nRequirement already satisfied: requests in /opt/conda/lib/python3.10/site-packages (from torchvision) (2.31.0)\nRequirement already satisfied: torch in /opt/conda/lib/python3.10/site-packages (from torchvision) (2.1.2)\nRequirement already satisfied: pillow!=8.3.*,>=5.3.0 in /opt/conda/lib/python3.10/site-packages (from torchvision) (9.5.0)\nRequirement already satisfied: charset-normalizer<4,>=2 in /opt/conda/lib/python3.10/site-packages (from requests->torchvision) (3.3.2)\nRequirement already satisfied: idna<4,>=2.5 in /opt/conda/lib/python3.10/site-packages (from requests->torchvision) (3.6)\nRequirement already satisfied: urllib3<3,>=1.21.1 in /opt/conda/lib/python3.10/site-packages (from requests->torchvision) (1.26.18)\nRequirement already satisfied: certifi>=2017.4.17 in /opt/conda/lib/python3.10/site-packages (from requests->torchvision) (2024.2.2)\nRequirement already satisfied: filelock in /opt/conda/lib/python3.10/site-packages (from torch->torchvision) (3.13.1)\nRequirement already satisfied: typing-extensions in /opt/conda/lib/python3.10/site-packages (from torch->torchvision) (4.9.0)\nRequirement already satisfied: sympy in /opt/conda/lib/python3.10/site-packages (from torch->torchvision) (1.12)\nRequirement already satisfied: networkx in /opt/conda/lib/python3.10/site-packages (from torch->torchvision) (3.2.1)\nRequirement already satisfied: jinja2 in /opt/conda/lib/python3.10/site-packages (from torch->torchvision) (3.1.2)\nRequirement already satisfied: fsspec in /opt/conda/lib/python3.10/site-packages (from torch->torchvision) (2024.2.0)\nRequirement already satisfied: MarkupSafe>=2.0 in /opt/conda/lib/python3.10/site-packages (from jinja2->torch->torchvision) (2.1.3)\nRequirement already satisfied: mpmath>=0.19 in /opt/conda/lib/python3.10/site-packages (from sympy->torch->torchvision) (1.3.0)\n",
          "output_type": "stream"
        }
      ]
    },
    {
      "cell_type": "code",
      "source": [
        "from tqdm import tqdm\n",
        "#device selection CPU or GPU\n",
        "device=torch.device(\"cuda\" if torch.cuda.is_available() else \"cpu\")\n",
        "print(device)"
      ],
      "metadata": {
        "execution": {
          "iopub.status.busy": "2024-05-17T09:28:24.887092Z",
          "iopub.execute_input": "2024-05-17T09:28:24.887672Z",
          "iopub.status.idle": "2024-05-17T09:28:24.896524Z",
          "shell.execute_reply.started": "2024-05-17T09:28:24.887648Z",
          "shell.execute_reply": "2024-05-17T09:28:24.895727Z"
        },
        "trusted": true,
        "id": "-oyViT07mhTd",
        "outputId": "c0f5c233-0734-48df-f389-856f4e08d652"
      },
      "execution_count": null,
      "outputs": [
        {
          "name": "stdout",
          "text": "cuda\n",
          "output_type": "stream"
        }
      ]
    },
    {
      "cell_type": "code",
      "source": [
        "train_data_root='/kaggle/input/aksharantardataset/aksharantar_sampled/tel/tel_train.csv'\n",
        "valid_data_root='/kaggle/input/aksharantardataset/aksharantar_sampled/tel/tel_valid.csv'\n",
        "test_data_root='/kaggle/input/aksharantardataset/aksharantar_sampled/tel/tel_test.csv'"
      ],
      "metadata": {
        "execution": {
          "iopub.status.busy": "2024-05-17T09:28:40.453128Z",
          "iopub.execute_input": "2024-05-17T09:28:40.453968Z",
          "iopub.status.idle": "2024-05-17T09:28:40.459411Z",
          "shell.execute_reply.started": "2024-05-17T09:28:40.453920Z",
          "shell.execute_reply": "2024-05-17T09:28:40.458413Z"
        },
        "trusted": true,
        "id": "1OTPiB79mhTd"
      },
      "execution_count": null,
      "outputs": []
    },
    {
      "cell_type": "code",
      "source": [
        "train_data=pd.read_csv(train_data_root,header=None)\n",
        "valid_data=pd.read_csv(valid_data_root,header=None)\n",
        "test_data=pd.read_csv(test_data_root,header=None)\n",
        "print(train_data[0][1])\n",
        "eng_list_train=train_data[0]\n",
        "tel_list_train=train_data[1]\n",
        "eng_list_valid=valid_data[0]\n",
        "tel_list_valid=valid_data[1]\n",
        "eng_list_test=test_data[0]\n",
        "tel_list_test=test_data[1]\n",
        "print(tel_list_train)"
      ],
      "metadata": {
        "execution": {
          "iopub.status.busy": "2024-05-17T09:28:42.693533Z",
          "iopub.execute_input": "2024-05-17T09:28:42.694507Z",
          "iopub.status.idle": "2024-05-17T09:28:42.872022Z",
          "shell.execute_reply.started": "2024-05-17T09:28:42.694465Z",
          "shell.execute_reply": "2024-05-17T09:28:42.870957Z"
        },
        "trusted": true,
        "id": "cngUV62EmhTd",
        "outputId": "045210e1-18b4-4171-c2f3-592770bcc01e"
      },
      "execution_count": null,
      "outputs": [
        {
          "name": "stdout",
          "text": "vastadira\n0              వర్గాలవారినే\n1                 వస్తాదిరా\n2             ఫ్యాక్టమ్ఫోస్\n3                మూత్రనాళాల\n4                 ద్విపాత్ర\n                ...        \n51195          తెలుస్తోందవి\n51196               పేచింగ్\n51197    వెనక్కితీసుకోవాలనే\n51198            రూపాంతరాలు\n51199           చెందిందింది\nName: 1, Length: 51200, dtype: object\n",
          "output_type": "stream"
        }
      ]
    },
    {
      "cell_type": "code",
      "source": [
        "eng_vocab=[] #list of the letters in the english words\n",
        "tel_vocab=[] #list of the letters in the telugu words\n",
        "max_eng_len=-1\n",
        "max_tel_len=-1\n",
        "max_eng_word=\"\"\n",
        "max_tel_word=\"\"\n",
        "for word in eng_list_train:\n",
        "    max_eng_len=max(max_eng_len,len(word))\n",
        "    if(max_eng_len==len(word)):\n",
        "        max_eng_word=word\n",
        "    for letter in word:\n",
        "        eng_vocab.append(letter)\n",
        "eng_vocab=list(set(eng_vocab))\n",
        "eng_vocab.sort()\n",
        "\n",
        "for word in tel_list_train:\n",
        "    max_tel_len=max(max_tel_len,len(word))\n",
        "    if(max_tel_len==len(word)):\n",
        "        max_tel_word=word\n",
        "    for letter in word:\n",
        "        tel_vocab.append(letter)\n",
        "tel_vocab=list(set(tel_vocab))\n",
        "tel_vocab.sort()\n",
        "\n",
        "# this is done to get the maximum that a data point size we did not store any thing in the vocabulary from these traversals\n",
        "for word in eng_list_valid:\n",
        "    max_eng_len=max(max_eng_len,len(word))\n",
        "for word in eng_list_test:\n",
        "    max_eng_len=max(max_eng_len,len(word))\n",
        "for word in tel_list_test:\n",
        "    max_tel_len=max(max_tel_len,len(word))\n",
        "for word in tel_list_valid:\n",
        "    max_tel_len=max(max_tel_len,len(word))\n",
        "print(tel_vocab)\n",
        "print(eng_vocab)\n",
        "print(len(max_tel_word))\n",
        "print(len(max_eng_word))\n",
        "print(max_tel_len,max_eng_len)\n",
        "print(eng_vocab)\n",
        "print(tel_vocab)\n",
        "print(len(tel_vocab))\n",
        "print(len(eng_vocab))"
      ],
      "metadata": {
        "execution": {
          "iopub.status.busy": "2024-05-17T09:28:44.923021Z",
          "iopub.execute_input": "2024-05-17T09:28:44.923691Z",
          "iopub.status.idle": "2024-05-17T09:28:45.263689Z",
          "shell.execute_reply.started": "2024-05-17T09:28:44.923652Z",
          "shell.execute_reply": "2024-05-17T09:28:45.262466Z"
        },
        "trusted": true,
        "id": "BHwl3XFimhTd",
        "outputId": "1f07aeb9-8610-4bfe-aa43-36986a1ee82b"
      },
      "execution_count": null,
      "outputs": [
        {
          "name": "stdout",
          "text": "['ం', 'ః', 'అ', 'ఆ', 'ఇ', 'ఈ', 'ఉ', 'ఊ', 'ఋ', 'ఎ', 'ఏ', 'ఐ', 'ఒ', 'ఓ', 'ఔ', 'క', 'ఖ', 'గ', 'ఘ', 'చ', 'ఛ', 'జ', 'ఝ', 'ఞ', 'ట', 'ఠ', 'డ', 'ఢ', 'ణ', 'త', 'థ', 'ద', 'ధ', 'న', 'ప', 'ఫ', 'బ', 'భ', 'మ', 'య', 'ర', 'ఱ', 'ల', 'ళ', 'వ', 'శ', 'ష', 'స', 'హ', 'ా', 'ి', 'ీ', 'ు', 'ూ', 'ృ', 'ె', 'ే', 'ై', 'ొ', 'ో', 'ౌ', '్']\n['a', 'b', 'c', 'd', 'e', 'f', 'g', 'h', 'i', 'j', 'k', 'l', 'm', 'n', 'o', 'p', 'q', 'r', 's', 't', 'u', 'v', 'w', 'x', 'y', 'z']\n21\n28\n21 28\n['a', 'b', 'c', 'd', 'e', 'f', 'g', 'h', 'i', 'j', 'k', 'l', 'm', 'n', 'o', 'p', 'q', 'r', 's', 't', 'u', 'v', 'w', 'x', 'y', 'z']\n['ం', 'ః', 'అ', 'ఆ', 'ఇ', 'ఈ', 'ఉ', 'ఊ', 'ఋ', 'ఎ', 'ఏ', 'ఐ', 'ఒ', 'ఓ', 'ఔ', 'క', 'ఖ', 'గ', 'ఘ', 'చ', 'ఛ', 'జ', 'ఝ', 'ఞ', 'ట', 'ఠ', 'డ', 'ఢ', 'ణ', 'త', 'థ', 'ద', 'ధ', 'న', 'ప', 'ఫ', 'బ', 'భ', 'మ', 'య', 'ర', 'ఱ', 'ల', 'ళ', 'వ', 'శ', 'ష', 'స', 'హ', 'ా', 'ి', 'ీ', 'ు', 'ూ', 'ృ', 'ె', 'ే', 'ై', 'ొ', 'ో', 'ౌ', '్']\n62\n26\n",
          "output_type": "stream"
        }
      ]
    },
    {
      "cell_type": "code",
      "source": [
        "# function to convert the telugu or english word to a vectorial representation\n",
        "def word_to_vector(language,word):\n",
        "    vec=[]\n",
        "    if(language==\"english\"):\n",
        "        vec.append(len(eng_vocab)+1)\n",
        "        for letter in word:\n",
        "            for albt in range(len(eng_vocab)):\n",
        "                if(eng_vocab[albt]==letter):\n",
        "                    vec.append(albt+1)\n",
        "        while(len(vec)<(max_eng_len+1)):\n",
        "            vec.append(0)\n",
        "        vec.append(0)\n",
        "    else:\n",
        "        vec.append(len(tel_vocab)+1)\n",
        "        for letter in word:\n",
        "            for albt in range(len(tel_vocab)):\n",
        "                if(tel_vocab[albt]==letter):\n",
        "                    vec.append(albt+1)\n",
        "        while(len(vec)<(max_tel_len+1)):\n",
        "            vec.append(0)\n",
        "        vec.append(0)\n",
        "    return vec\n",
        "print(word_to_vector(\"english\",eng_list_train[1]))\n",
        "print(word_to_vector(\"telugu\",tel_list_train[1]))\n",
        "print(len(word_to_vector(\"english\",eng_list_train[1])))\n",
        "print(len(word_to_vector(\"telugu\",tel_list_train[1])))\n",
        "print(eng_list_train[1])\n",
        "print(tel_list_train[1])\n",
        "# print(eng_list_train.shape)\n",
        "print(len(eng_vocab))\n",
        "print(len(tel_vocab))"
      ],
      "metadata": {
        "execution": {
          "iopub.status.busy": "2024-05-17T09:28:47.692772Z",
          "iopub.execute_input": "2024-05-17T09:28:47.693208Z",
          "iopub.status.idle": "2024-05-17T09:28:47.706707Z",
          "shell.execute_reply.started": "2024-05-17T09:28:47.693174Z",
          "shell.execute_reply": "2024-05-17T09:28:47.705733Z"
        },
        "trusted": true,
        "id": "L49gfLGEmhTd",
        "outputId": "e8e42df9-08a8-4e1f-ea86-5b7baedfefef"
      },
      "execution_count": null,
      "outputs": [
        {
          "name": "stdout",
          "text": "[27, 22, 1, 19, 20, 1, 4, 9, 18, 1, 0, 0, 0, 0, 0, 0, 0, 0, 0, 0, 0, 0, 0, 0, 0, 0, 0, 0, 0, 0]\n[63, 45, 48, 62, 30, 50, 32, 51, 41, 50, 0, 0, 0, 0, 0, 0, 0, 0, 0, 0, 0, 0, 0]\n30\n23\nvastadira\nవస్తాదిరా\n26\n62\n",
          "output_type": "stream"
        }
      ]
    },
    {
      "cell_type": "code",
      "source": [
        "#creation of the matrix for the english and the telugu words\n",
        "\n",
        "# for training data\n",
        "eng_matrix_train=[]\n",
        "for word in eng_list_train:\n",
        "    eng_matrix_train.append(word_to_vector(\"english\",word))\n",
        "tel_matrix_train=[]\n",
        "for word in tel_list_train:\n",
        "    tel_matrix_train.append(word_to_vector(\"telugu\",word))\n",
        "eng_matrix_train=torch.tensor(eng_matrix_train)\n",
        "tel_matrix_train=torch.tensor(tel_matrix_train)\n",
        "print(eng_matrix_train[1])\n",
        "print(tel_matrix_train[1])\n",
        "print(eng_list_train[1])\n",
        "print(tel_list_train[1])\n",
        "\n",
        "\n",
        "#for validation data\n",
        "eng_matrix_valid=[]\n",
        "tel_matrix_valid=[]\n",
        "for word in eng_list_valid:\n",
        "    eng_matrix_valid.append(word_to_vector(\"english\",word))\n",
        "for word in tel_list_valid:\n",
        "    tel_matrix_valid.append(word_to_vector(\"telugu\",word))\n",
        "eng_matrix_valid=torch.tensor(eng_matrix_valid)\n",
        "tel_matrix_valid=torch.tensor(tel_matrix_valid)\n",
        "print(eng_matrix_valid[1])\n",
        "print(tel_matrix_valid[1])\n",
        "print(eng_list_valid[1])\n",
        "print(tel_list_valid[1])\n",
        "\n",
        "\n",
        "# for test data\n",
        "eng_matrix_test=[]\n",
        "tel_matrix_test=[]\n",
        "for word in eng_list_test:\n",
        "    eng_matrix_test.append(word_to_vector(\"english\",word))\n",
        "for word in tel_list_test:\n",
        "    tel_matrix_test.append(word_to_vector(\"telugu\",word))\n",
        "eng_matrix_test=torch.tensor(eng_matrix_test) # converted to tensors for the tensor feasible applications\n",
        "tel_matrix_test=torch.tensor(tel_matrix_test)\n",
        "print(eng_matrix_test[1])\n",
        "print(tel_matrix_test[1])\n",
        "print(eng_list_test[1])\n",
        "print(tel_list_test[1])\n",
        "\n",
        "\n",
        "print(len(eng_matrix_train))\n",
        "print(len(eng_matrix_valid))\n",
        "print(len(eng_matrix_test))\n",
        "print(tel_matrix_train.shape)\n",
        "print(eng_matrix_train.shape)"
      ],
      "metadata": {
        "execution": {
          "iopub.status.busy": "2024-05-17T09:28:50.179326Z",
          "iopub.execute_input": "2024-05-17T09:28:50.179716Z",
          "iopub.status.idle": "2024-05-17T09:28:58.348534Z",
          "shell.execute_reply.started": "2024-05-17T09:28:50.179686Z",
          "shell.execute_reply": "2024-05-17T09:28:58.347562Z"
        },
        "trusted": true,
        "id": "mXaz-fQKmhTd",
        "outputId": "6eb1903c-5fe5-4f16-c4b9-3e2c33875ce2"
      },
      "execution_count": null,
      "outputs": [
        {
          "name": "stdout",
          "text": "tensor([27, 22,  1, 19, 20,  1,  4,  9, 18,  1,  0,  0,  0,  0,  0,  0,  0,  0,\n         0,  0,  0,  0,  0,  0,  0,  0,  0,  0,  0,  0])\ntensor([63, 45, 48, 62, 30, 50, 32, 51, 41, 50,  0,  0,  0,  0,  0,  0,  0,  0,\n         0,  0,  0,  0,  0])\nvastadira\nవస్తాదిరా\ntensor([27, 22,  9, 14, 25,  1, 19,  1,  1, 14, 14,  9,  0,  0,  0,  0,  0,  0,\n         0,  0,  0,  0,  0,  0,  0,  0,  0,  0,  0,  0])\ntensor([63, 45, 51, 34, 62, 40, 50, 48, 50, 34, 62, 34, 51,  0,  0,  0,  0,  0,\n         0,  0,  0,  0,  0])\nvinyasaanni\nవిన్యాసాన్ని\ntensor([27, 16, 18,  1, 25,  1,  1, 14,  9, 11, 21, 12, 21,  0,  0,  0,  0,  0,\n         0,  0,  0,  0,  0,  0,  0,  0,  0,  0,  0,  0])\ntensor([63, 35, 62, 41, 40, 50, 29, 51, 16, 53, 43, 53,  0,  0,  0,  0,  0,  0,\n         0,  0,  0,  0,  0])\nprayaanikulu\nప్రయాణికులు\n51200\n4096\n4096\ntorch.Size([51200, 23])\ntorch.Size([51200, 30])\n",
          "output_type": "stream"
        }
      ]
    },
    {
      "cell_type": "code",
      "source": [
        "# encoder class for the input and producing the output as the input for the decoder\n",
        "class Encoder(nn.Module):\n",
        "    def __init__(self,input_size,embedding_size,enc_layers,hidden_size,cell_type,bi_directional_bit,dropout,batch_size):\n",
        "        super(Encoder,self).__init__()\n",
        "        self.input_size=input_size\n",
        "        self.embedding_size=embedding_size\n",
        "        self.enc_layers=enc_layers\n",
        "        self.cell_type=cell_type\n",
        "        self.bi_directional_bit=bi_directional_bit\n",
        "        self.dropout=nn.Dropout(dropout)\n",
        "        self.embedding=nn.Embedding(input_size,embedding_size)\n",
        "        self.hidden_size=hidden_size\n",
        "        self.batch_size=batch_size\n",
        "        #based on the type of the cell considering the variant of the neural network to be used\n",
        "        if(cell_type==\"RNN\"):\n",
        "            self.rnn=nn.RNN(embedding_size,hidden_size,enc_layers,dropout=dropout,bidirectional=bi_directional_bit)\n",
        "        elif(cell_type==\"GRU\"):\n",
        "            self.gru=nn.GRU(embedding_size,hidden_size,enc_layers,dropout=dropout,bidirectional=bi_directional_bit)\n",
        "        else:\n",
        "            self.lstm=nn.LSTM(embedding_size,hidden_size,enc_layers,dropout=dropout,bidirectional=bi_directional_bit)\n",
        "\n",
        "\n",
        "\n",
        "    #forward passing\n",
        "    def forward(self,x,hidden,cell):\n",
        "        embedding=self.embedding(x).view(-1,self.batch_size,self.embedding_size)\n",
        "#         embedding=self.dropout(embedding) # adding the dropout at the input layer\n",
        "        if(self.cell_type==\"RNN\"):\n",
        "            output,hidden=self.rnn(embedding,hidden)\n",
        "        elif(self.cell_type==\"GRU\"):\n",
        "            output,hidden=self.gru(embedding,hidden)\n",
        "        else:\n",
        "            output,(hidden,cell)=self.lstm(embedding,(hidden,cell))\n",
        "            return output,hidden,cell\n",
        "        return output,hidden\n",
        "\n",
        "    # initialize the tensor to zeroes at start\n",
        "    def initialize_hidden(self):\n",
        "        if(self.bi_directional_bit==True):\n",
        "            return torch.zeros(2*self.enc_layers,self.batch_size,self.hidden_size,device=device)\n",
        "        return torch.zeros(self.enc_layers,self.batch_size,self.hidden_size,device=device)\n",
        "    def initialize_cell(self):\n",
        "        if(self.bi_directional_bit==True):\n",
        "            return torch.zeros(2*self.enc_layers,self.batch_size,self.hidden_size,device=device)\n",
        "        return torch.zeros(self.enc_layers,self.batch_size,self.hidden_size,device=device)"
      ],
      "metadata": {
        "execution": {
          "iopub.status.busy": "2024-05-17T09:29:00.213779Z",
          "iopub.execute_input": "2024-05-17T09:29:00.214482Z",
          "iopub.status.idle": "2024-05-17T09:29:00.227214Z",
          "shell.execute_reply.started": "2024-05-17T09:29:00.214448Z",
          "shell.execute_reply": "2024-05-17T09:29:00.226181Z"
        },
        "trusted": true,
        "id": "jxXegzAlmhTe"
      },
      "execution_count": null,
      "outputs": []
    },
    {
      "cell_type": "code",
      "source": [
        "#declearing the decoder class\n",
        "class Decoder(nn.Module):\n",
        "    def __init__(self,input_size,embedding_size,hidden_size,dec_layers,dropout,cell_type,output_size):\n",
        "        super(Decoder,self).__init__()\n",
        "        self.input_size=input_size\n",
        "        self.embedding_size=embedding_size\n",
        "        self.hidden_size=hidden_size\n",
        "        self.dec_layers=dec_layers\n",
        "        self.dropout=nn.Dropout(dropout)\n",
        "        self.cell_type=cell_type\n",
        "        self.embedding=nn.Embedding(input_size,embedding_size)\n",
        "        if(cell_type==\"RNN\"):\n",
        "            self.rnn=nn.RNN(embedding_size,hidden_size,dec_layers,dropout=dropout)\n",
        "        elif(cell_type==\"GRU\"):\n",
        "            self.gru=nn.GRU(embedding_size,hidden_size,dec_layers,dropout=dropout)\n",
        "        else:\n",
        "            self.lstm=nn.LSTM(embedding_size,hidden_size,dec_layers,dropout=dropout)\n",
        "        self.fully_conc=nn.Linear(hidden_size,output_size)\n",
        "\n",
        "    # forward pass\n",
        "    def forward(self,x,prev_output,prev_hidden,cell=0):\n",
        "        x=x.unsqueeze(0).int() # convert the input token X to tensor and gives a single dimension\n",
        "        embedding=self.embedding(x)\n",
        "        embedding=self.dropout(embedding)\n",
        "        if(self.cell_type==\"RNN\"):\n",
        "            outputs,hidden=self.rnn(embedding,prev_hidden)\n",
        "        elif(self.cell_type==\"GRU\"):\n",
        "            outputs,hidden=self.gru(embedding,prev_hidden)\n",
        "        else:\n",
        "            outputs,(hidden,cell)=self.lstm(embedding,(prev_hidden,cell))\n",
        "\n",
        "        #as we converted it by using unsqueezing the dimension of the output is like(1,N,hidden_size)\n",
        "        pred=self.fully_conc(outputs)\n",
        "        # this makes the dimension as the (1,N,size_of_vocab)\n",
        "        pred=pred.squeeze(0)\n",
        "        # this makes the dimension as the (N,size_of_vocab)\n",
        "        if(self.cell_type==\"GRU\" or self.cell_type == \"RNN\"):\n",
        "            return pred,hidden\n",
        "        return pred,hidden,cell\n",
        "\n",
        "\n",
        "    #initialize the tensor to zeroes\n",
        "    def initialize_hidden(self):\n",
        "        return torch.zeros(self.dec_layers,self.batch_size,self.hidden_size,device=device)"
      ],
      "metadata": {
        "execution": {
          "iopub.status.busy": "2024-05-17T09:29:03.423050Z",
          "iopub.execute_input": "2024-05-17T09:29:03.423440Z",
          "iopub.status.idle": "2024-05-17T09:29:03.435194Z",
          "shell.execute_reply.started": "2024-05-17T09:29:03.423371Z",
          "shell.execute_reply": "2024-05-17T09:29:03.434246Z"
        },
        "trusted": true,
        "id": "fI_zcq-wmhTe"
      },
      "execution_count": null,
      "outputs": []
    },
    {
      "cell_type": "code",
      "source": [
        "class attention_add_decoder(nn.Module):\n",
        "    def __init__(self,input_size,embedding_size,hidden_size,output_size,cell_type,dec_layers,dropout,bi_directional_bit):\n",
        "        super(attention_add_decoder,self).__init__()\n",
        "        self.input_size=input_size\n",
        "        self.hidden_size=hidden_size\n",
        "        self.output_size=output_size\n",
        "        self.cell_type=cell_type\n",
        "        self.dec_layers=dec_layers\n",
        "        self.bi_directional_bit=bi_directional_bit\n",
        "        self.cell_type=cell_type\n",
        "        self.embedding_size=embedding_size\n",
        "        self.dropout=nn.Dropout(dropout)\n",
        "        self.length=len(eng_matrix_train[0])\n",
        "        self.embedding=nn.Embedding(input_size,embedding_size)\n",
        "        if(self.cell_type==\"LSTM\"):\n",
        "            self.lstm=nn.LSTM(hidden_size,hidden_size,dec_layers,dropout=dropout)\n",
        "        elif(self.cell_type==\"GRU\"):\n",
        "            self.gru=nn.GRU(hidden_size,hidden_size,dec_layers,dropout=dropout)\n",
        "        else:\n",
        "            self.rnn=nn.RNN(hidden_size,hidden_size,dec_layers,dropout=dropout)\n",
        "        self.fully_conc=nn.Linear(hidden_size,output_size)\n",
        "        self.attention=nn.Linear(hidden_size+embedding_size,self.length)\n",
        "        if(bi_directional_bit==True):\n",
        "            self.atten_adding=nn.Linear(hidden_size*2+embedding_size,hidden_size)\n",
        "        elif(bi_directional_bit==False):\n",
        "            self.atten_adding=nn.Linear(hidden_size+embedding_size,hidden_size)\n",
        "        self.attn_weights=[]\n",
        "\n",
        "    def forward(self,x,prev_output,prev_hidden,cell=0):\n",
        "        prev_output = prev_output.permute(1,0,2) #this will help to rearrange the dimensions to 1,0,2\n",
        "        x=x.unsqueeze(0)\n",
        "        embedded=self.dropout(self.embedding(x))\n",
        "        cnct=torch.cat((embedded[0],prev_hidden[0]),1)\n",
        "        atten_parameters=func.softmax(self.attention(cnct),dim=1)\n",
        "        atten_added=torch.bmm(atten_parameters.unsqueeze(1),prev_output) # this performs a batch wise matrix multiplications4\n",
        "        atten_added=atten_added.squeeze(1)\n",
        "#         print(\"Hello\")\n",
        "#         print(\"shape of embedded[0] is: \",embedded[0].shape)\n",
        "#         print(\"shape of atten_added is: \",atten_added.shape)\n",
        "        final_output=torch.cat((embedded[0],atten_added),1)\n",
        "        final_output=torch.unsqueeze(self.atten_adding(final_output),0)\n",
        "        final_output=func.relu(final_output)\n",
        "\n",
        "        if(self.cell_type==\"RNN\"):\n",
        "            outputs,hidden=self.rnn(final_output,prev_hidden)\n",
        "        elif(self.cell_type==\"GRU\"):\n",
        "            outputs,hidden=self.gru(final_output,prev_hidden)\n",
        "        else:\n",
        "            outputs,(hidden,cell)=self.lstm(final_output,(prev_hidden,cell))\n",
        "\n",
        "        pred= self.fully_conc(outputs)\n",
        "        pred= pred.squeeze(0)\n",
        "\n",
        "        #store the attention weights\n",
        "        self.attn_weights.append(atten_parameters.squeeze().detach().cpu().numpy())\n",
        "        if(self.cell_type==\"GRU\" or self.cell_type==\"RNN\"):\n",
        "            return pred,hidden\n",
        "        else:\n",
        "            return pred,hidden,cell"
      ],
      "metadata": {
        "execution": {
          "iopub.status.busy": "2024-05-17T09:32:27.126569Z",
          "iopub.execute_input": "2024-05-17T09:32:27.126932Z",
          "iopub.status.idle": "2024-05-17T09:32:27.142852Z",
          "shell.execute_reply.started": "2024-05-17T09:32:27.126905Z",
          "shell.execute_reply": "2024-05-17T09:32:27.141937Z"
        },
        "trusted": true,
        "id": "cYI6ves7mhTe"
      },
      "execution_count": null,
      "outputs": []
    },
    {
      "cell_type": "code",
      "source": [
        "class Seq_to_seq(nn.Module):\n",
        "    def __init__(self,decoder,encoder,cell_type,bidirectional_bit,encoder_layers,decoder_layers):\n",
        "        super(Seq_to_seq,self).__init__()\n",
        "        self.decoder=decoder\n",
        "        self.encoder=encoder\n",
        "        self.cell_type=cell_type\n",
        "        self.bidirectional_bit=bidirectional_bit\n",
        "        self.encoder_layers=encoder_layers\n",
        "        self.decoder_layers=decoder_layers\n",
        "\n",
        "    #forward pass\n",
        "    def forward(self,input_seq,target,teacher_force_ratio=0.5):\n",
        "        batch_size=input_seq.shape[1]\n",
        "        tar_seq_length=target.shape[0]\n",
        "        final_target_vocab_size=len(tel_vocab)+2 #this +2 will help the model for the additional special tokens\n",
        "        outputs=torch.zeros(tar_seq_length,batch_size,final_target_vocab_size).to(device=device)\n",
        "        hidden=self.encoder.initialize_hidden()\n",
        "        cell=self.encoder.initialize_cell()\n",
        "        if(self.cell_type==\"RNN\" or self.cell_type==\"GRU\"):\n",
        "            encoder_output,hidden=self.encoder(input_seq,hidden,cell)\n",
        "        else:\n",
        "            encoder_output,hidden,cell=self.encoder(input_seq,hidden,cell)\n",
        "        if(self.decoder_layers!=self.encoder_layers or self.bidirectional_bit):\n",
        "            if(self.cell_type==\"RNN\" or self.cell_type==\"GRU\" or self.cell_type==\"LSTM\"):\n",
        "                hidden=hidden[self.encoder_layers-1]+hidden[self.encoder_layers-1]\n",
        "                hidden=hidden.repeat(self.decoder_layers,1,1)\n",
        "            if(self.cell_type==\"LSTM\"):\n",
        "                cell=cell[self.encoder_layers-1]+cell[self.encoder_layers-1]\n",
        "                cell=cell.repeat(self.decoder_layers,1,1)\n",
        "        x=target[0]\n",
        "        for t in range(1,tar_seq_length):\n",
        "            if(self.cell_type==\"RNN\" or self.cell_type==\"GRU\"):\n",
        "                output,hidden=self.decoder(x,encoder_output,hidden)\n",
        "            else:\n",
        "                output,hidden,cell=self.decoder(x,encoder_output,hidden,cell)\n",
        "            outputs[t]=output\n",
        "            predicted=output.argmax(1)\n",
        "            if(random.random()<teacher_force_ratio):\n",
        "                x=target[t]\n",
        "            else:\n",
        "                x=predicted\n",
        "        return outputs"
      ],
      "metadata": {
        "execution": {
          "iopub.status.busy": "2024-05-17T09:32:29.326512Z",
          "iopub.execute_input": "2024-05-17T09:32:29.327134Z",
          "iopub.status.idle": "2024-05-17T09:32:29.339829Z",
          "shell.execute_reply.started": "2024-05-17T09:32:29.327103Z",
          "shell.execute_reply": "2024-05-17T09:32:29.338883Z"
        },
        "trusted": true,
        "id": "oupNvW4fmhTe"
      },
      "execution_count": null,
      "outputs": []
    },
    {
      "cell_type": "code",
      "source": [
        ""
      ],
      "metadata": {
        "id": "eRwynhJ2mhTf"
      },
      "execution_count": null,
      "outputs": []
    },
    {
      "cell_type": "code",
      "source": [
        "def recurrent_neural_network(cell_type, bi_directional_bit, embedding_size, enc_dropout, dec_dropout, enc_layers, dec_layers, hidden_size, batch_size, attention, learning_rate, max_epochs,attention_bit):\n",
        "    enc_input_size=len(eng_vocab)+2\n",
        "    dec_input_size=len(tel_vocab)+2\n",
        "    output_size=len(tel_vocab)+2\n",
        "    # encoder network decleration\n",
        "    encoder_section=Encoder(enc_input_size,embedding_size,enc_layers,hidden_size,cell_type,bi_directional_bit,enc_dropout,batch_size).to(device=device)\n",
        "    # decoder network decleration\n",
        "    if(attention_bit):\n",
        "        decoder_section=attention_add_decoder(dec_input_size,embedding_size,hidden_size,output_size,cell_type,dec_layers,dec_dropout,bi_directional_bit).to(device=device)\n",
        "    else:\n",
        "        decoder_section=Decoder(dec_input_size,embedding_size,hidden_size,dec_layers,dec_dropout,cell_type,output_size).to(device=device)\n",
        "    model=Seq_to_seq(decoder_section,encoder_section,cell_type,bi_directional_bit,enc_layers,dec_layers)\n",
        "    optimizer=optim.Adam(model.parameters(),lr=learning_rate)\n",
        "    pad = len(tel_vocab)+1\n",
        "    loss_criterion=nn.CrossEntropyLoss(ignore_index=pad)\n",
        "#     print(batch_size)\n",
        "    attention_weights=[]\n",
        "    for itr in range(max_epochs):\n",
        "        print(\"epoch: \",itr+1)\n",
        "\n",
        "        model.train()\n",
        "        final_loss=0\n",
        "        step=0\n",
        "        for batch_id in tqdm(range((int)(len(eng_matrix_train)/batch_size))):\n",
        "            inp_word=eng_matrix_train[batch_size*batch_id:batch_size*(batch_id+1)].to(device=device)\n",
        "            out_word=tel_matrix_train[batch_size*batch_id:batch_size*(batch_id+1)].to(device=device)\n",
        "            out_word=out_word.T\n",
        "            inp_word=inp_word.T\n",
        "            output=model(inp_word,out_word)\n",
        "\n",
        "            output=output[1:].reshape(-1,output.shape[2])\n",
        "            out_word=out_word[1:].reshape(-1)\n",
        "            optimizer.zero_grad()\n",
        "            loss=loss_criterion(output,out_word)\n",
        "            final_loss=final_loss+loss;\n",
        "            loss.backward()\n",
        "\n",
        "            torch.nn.utils.clip_grad_norm(model.parameters(),max_norm=1)\n",
        "            optimizer.step()\n",
        "            step=step+1\n",
        "        print(\"total loss: \",final_loss/step)\n",
        "\n",
        "        #store attention weights from the last iteration\n",
        "        if(itr==max_epochs-1):\n",
        "            attention_weights.clear()\n",
        "            attention_weights.append(model.decoder.attn_weights)\n",
        "        train_acc=accuracy_fun(eng_matrix_train,tel_matrix_train,batch_size,max_epochs,model)\n",
        "        valid_acc=accuracy_fun(eng_matrix_valid,tel_matrix_valid,batch_size,max_epochs,model)\n",
        "        test_acc=accuracy_fun(eng_matrix_test,tel_matrix_test,batch_size,max_epochs,model)\n",
        "        print(\"train accuracy: \",train_acc)\n",
        "        print(\"valid accuracy: \",valid_acc)\n",
        "        print(\"test accuracy: \",test_acc)\n",
        "    return model\n",
        "#         for i in range(len(attention_weights)):\n",
        "#             print(len(attention_weights[i]))\n",
        "#             print(len(attention_weights))\n",
        "#             break;\n",
        "#         wandb.log({'test accuracy_attn':test_acc})\n",
        "\n",
        "#     returned_pred=vectors_to_actual_words(model,eng_matrix_test,tel_matrix_test,batch_size,'Test')\n",
        "#     csv_file_func(returned_pred)\n",
        "#     print(\"csv created without attention\")\n",
        "#         wandb.log({'training_accuracy':train_acc})\n",
        "#         wandb.log({'valid_accuracy':valid_acc})\n",
        "#         wandb.log({'epochs':itr+1})\n",
        "#     print(vectors_to_actual_words(model,eng_matrix_train,tel_matrix_train,batch_size,\"Train\"))\n",
        "#     returned=vectors_to_actual_words(model,eng_matrix_valid,tel_matrix_valid,batch_size,\"Valid\")\n",
        "#     for i in range(len(returned)):\n",
        "#         print(returned[i])"
      ],
      "metadata": {
        "execution": {
          "iopub.status.busy": "2024-05-17T12:26:21.818234Z",
          "iopub.execute_input": "2024-05-17T12:26:21.818673Z",
          "iopub.status.idle": "2024-05-17T12:26:21.843806Z",
          "shell.execute_reply.started": "2024-05-17T12:26:21.818638Z",
          "shell.execute_reply": "2024-05-17T12:26:21.842816Z"
        },
        "trusted": true,
        "id": "6RUgPHtWmhTf"
      },
      "execution_count": null,
      "outputs": []
    },
    {
      "cell_type": "code",
      "source": [
        "# enc,dec=recurrent_neural_network(cell_type, bi_directional_bit, embedding_size, enc_dropout, dec_dropout, enc_layers, dec_layers, hidden_size, batch_size, attention, learning_rate, max_epochs,attention_bit)"
      ],
      "metadata": {
        "id": "FfjyjYjXmhTf"
      },
      "execution_count": null,
      "outputs": []
    },
    {
      "cell_type": "code",
      "source": [
        "def accuracy_fun(eng_matrix,tel_matrix,batch_size,max_epochs,model):\n",
        "    correct=0\n",
        "#     print(batch_size)\n",
        "#     print(len(eng_matrix))\n",
        "    for batch_id in range((int)(len(eng_matrix)/batch_size)):\n",
        "        inp_word=eng_matrix[batch_size*batch_id:batch_size*(batch_id+1)].to(device=device)\n",
        "        out_word=tel_matrix[batch_size*(batch_id):batch_size*(batch_id+1)].to(device=device)\n",
        "        inp_word=inp_word.T\n",
        "        out_word=out_word.T\n",
        "        output=model.forward(inp_word,out_word,0)\n",
        "        output=nn.Softmax(dim=2)(output)\n",
        "        output=torch.argmax(output,dim=2)\n",
        "        output=output.T\n",
        "        out_word=out_word.T\n",
        "        for i in range(batch_size):\n",
        "            if(torch.equal(output[i][1:],out_word[i][1:])):\n",
        "                correct=correct+1\n",
        "#                 print('hello',output[i][1:],out_word[i][1:])\n",
        "    return ((correct*100)/len(eng_matrix))"
      ],
      "metadata": {
        "trusted": true,
        "id": "EdZB8T4MmhTf"
      },
      "execution_count": null,
      "outputs": []
    },
    {
      "cell_type": "code",
      "source": [
        "#convertion of the vectors of words to actual words back\n",
        "# pred_train=[]\n",
        "# pred_valid=[]\n",
        "pred_test_attn=[]\n",
        "def vectors_to_actual_words(model,english_mat,telugu_mat,batch_size,type_of_data):\n",
        "    for batch_id in range((int)(len(english_mat)/batch_size)):\n",
        "        input_batch=english_mat[batch_id*batch_size:batch_size*(batch_id+1)].to(device=device)\n",
        "        output_batch=telugu_mat[batch_id*batch_size:batch_size*(batch_id+1)].to(device=device)\n",
        "        output=model.forward(input_batch.T,output_batch.T,0)\n",
        "        output=nn.Softmax(dim=2)(output)\n",
        "        output=torch.argmax(output,dim=2)\n",
        "        output=output.T\n",
        "        for ind in range(len(output_batch)):\n",
        "            res_word=output_batch[ind]\n",
        "            pred_word=output[ind]\n",
        "            word_res=\"\"\n",
        "            word_pred=\"\"\n",
        "            inp_word=\"\"\n",
        "            for i in range(len(pred_word)):\n",
        "                if(pred_word[i]>0 and pred_word[i]<len(tel_vocab)):\n",
        "                    word_pred+=tel_vocab[pred_word[i]-1]\n",
        "            input_actual=input_batch[ind]\n",
        "            for i in range(len(input_actual)):\n",
        "                if(input_actual[i]>0 and input_actual[i]<len(eng_vocab)):\n",
        "                    inp_word+=eng_vocab[input_actual[i]-1]\n",
        "            for i in range(len(res_word)):\n",
        "                if(res_word[i]>0 and res_word[i]<len(tel_vocab)):\n",
        "                    word_res+=tel_vocab[res_word[i]-1]\n",
        "            temp=[inp_word,word_pred,word_res]\n",
        "            if(type_of_data=='Test'):\n",
        "                pred_test_attn.append(temp)\n",
        "    return pred_test_attn"
      ],
      "metadata": {
        "execution": {
          "iopub.status.busy": "2024-05-17T03:46:43.764984Z",
          "iopub.execute_input": "2024-05-17T03:46:43.765258Z",
          "iopub.status.idle": "2024-05-17T03:46:43.782279Z",
          "shell.execute_reply.started": "2024-05-17T03:46:43.765234Z",
          "shell.execute_reply": "2024-05-17T03:46:43.781348Z"
        },
        "trusted": true,
        "id": "DUHu0_w0mhTf"
      },
      "execution_count": null,
      "outputs": []
    },
    {
      "cell_type": "code",
      "source": [
        "#writing the data to CSV files from the words that are predicted ( here without attention)\n",
        "import csv\n",
        "def csv_file_func(pred_test):\n",
        "#     train_path='/kaggle/working/pred_train.csv'\n",
        "#     valid_path='/kaggle/working/pred_valid.csv'\n",
        "    test_path='/kaggle/working/pred_test_attn_vanilla.csv'\n",
        "\n",
        "    # for train data csv file creation with out attention\n",
        "#     with open(train_path,'w',newline='')as csv_file:\n",
        "#         writer=csv.writer(csv_file)\n",
        "#         writer.writerows(pred_train)\n",
        "\n",
        "#     # for valid data csv file creation with out attention\n",
        "#     with open(valid_path,'w',newline='')as csv_file:\n",
        "#         writer=csv.writer(csv_file)\n",
        "#         writer.writerows(pred_valid)\n",
        "\n",
        "    #for test data csv file creation with out attention\n",
        "    with open(test_path,'w',newline='')as csv_file:\n",
        "        writer=csv.writer(csv_file)\n",
        "        writer.writerows(pred_test)"
      ],
      "metadata": {
        "execution": {
          "iopub.status.busy": "2024-05-17T03:48:27.821359Z",
          "iopub.execute_input": "2024-05-17T03:48:27.821765Z",
          "iopub.status.idle": "2024-05-17T03:48:27.827708Z",
          "shell.execute_reply.started": "2024-05-17T03:48:27.821735Z",
          "shell.execute_reply": "2024-05-17T03:48:27.826717Z"
        },
        "trusted": true,
        "id": "vgOIbEJzmhTf"
      },
      "execution_count": null,
      "outputs": []
    },
    {
      "cell_type": "code",
      "source": [
        "#writing the data to CSV files from the words that are predicted ( here with attention)\n",
        "import csv\n",
        "train_path='/kaggle/working/pred_train_atn.csv'\n",
        "valid_path='/kaggle/working/pred_valid_atn.csv'\n",
        "test_path='/kaggle/working/pred_test_atn.csv'\n",
        "\n",
        "# for train data csv file creation with attention\n",
        "with open(train_path,'w',newline='')as csv_file:\n",
        "    writer=csv.writer(csv_file)\n",
        "    writer.writerows(pred_train)\n",
        "\n",
        "# for valid data csv file creation with attention\n",
        "with open(valid_path,'w',newline='')as csv_file:\n",
        "    writer=csv.writer(csv_file)\n",
        "    writer.writerows(pred_valid)\n",
        "\n",
        "#for test data csv file creation with attention\n",
        "with open(valid_path,'w',newline='')as csv_file:\n",
        "    writer=csv.writer(csv_file)\n",
        "    writer.writerows(pred_test)"
      ],
      "metadata": {
        "execution": {
          "iopub.status.busy": "2024-05-16T18:04:23.203840Z",
          "iopub.execute_input": "2024-05-16T18:04:23.204577Z",
          "iopub.status.idle": "2024-05-16T18:04:23.211844Z",
          "shell.execute_reply.started": "2024-05-16T18:04:23.204548Z",
          "shell.execute_reply": "2024-05-16T18:04:23.210936Z"
        },
        "trusted": true,
        "id": "wcOxiDWrmhTf"
      },
      "execution_count": null,
      "outputs": []
    },
    {
      "cell_type": "code",
      "source": [
        "bi_directional_bit=True\n",
        "enc_layers=3\n",
        "dec_layers=3\n",
        "batch_size=512\n",
        "embedding_size=256\n",
        "hidden_size=512\n",
        "enc_dropout=0\n",
        "dec_dropout=0\n",
        "max_epochs=1\n",
        "learning_rate=1e-3\n",
        "cell_type='GRU'\n",
        "attention_bit=True\n",
        "enc,dec=recurrent_neural_network(cell_type, bi_directional_bit, embedding_size, enc_dropout, dec_dropout, enc_layers, dec_layers, hidden_size, batch_size, attention_bit, learning_rate, max_epochs,attention_bit)"
      ],
      "metadata": {
        "trusted": true,
        "id": "2bPBvYVkmhTg"
      },
      "execution_count": null,
      "outputs": []
    },
    {
      "cell_type": "code",
      "source": [],
      "metadata": {
        "id": "R7nNKVsXmhTg"
      },
      "execution_count": null,
      "outputs": []
    },
    {
      "cell_type": "code",
      "source": [
        "!pip install wandb\n",
        "import wandb\n",
        "from wandb.keras import WandbCallback\n",
        "import socket\n",
        "socket.setdefaulttimeout(30)\n",
        "wandb.login()\n",
        "wandb.init(project ='DL_assignment_3')\n",
        "\n",
        "\n",
        "def main_func():\n",
        "  wandb.init(project='DL_assignment_3')\n",
        "  params=wandb.config\n",
        "  with wandb.init(project='DL_assignment_3',name=\"bi_bit\"+str(params.bi_directional_bit)+'cell_type'+str(params.cell_type)+'atn_bit'+str(params.attention_bit)+'enc_lay'+str(params.enc_layers)+'dec_lay'+str(params.dec_layers)) as run:\n",
        "    recurrent_neural_network(params.cell_type, params.bi_directional_bit, params.embedding_size, params.enc_dropout, params.dec_dropout,\n",
        "                             params.enc_layers, params.dec_layers, params.hidden_size, params.batch_size,\n",
        "                             params.attention_bit, params.learning_rate, params.max_epochs,params.attention_bit)\n",
        "#     training_model(params.neurons,params.num_of_filters,params.activation_func,params.optimizer,\n",
        "#                    params.batchsize,params.dropout,params.max_epochs,params.learning_rate,\n",
        "#                   params.batch_norm,params.dropout_check,params.filter_organisation,params.loss_function)\n",
        "# recurrent_neural_network(cell_type, bi_directional_bit, embedding_size, enc_dropout, dec_dropout, enc_layers, dec_layers, hidden_size, batch_size, attention_bit, learning_rate, max_epochs,attention_bit)\n",
        "\n",
        "\n",
        "sweep_params={\n",
        "    'method':'bayes','name': 'Sweeps_tests',\n",
        "    'metric':{\n",
        "        'goal':'maximize',\n",
        "        'name':'valid_accuracy'\n",
        "    },\n",
        "    'parameters':{\n",
        "        'bi_directional_bit':{'values':[True]},\n",
        "        'enc_layers':{'values':[3]},\n",
        "        'dec_layers':{'values':[3]},\n",
        "        'embedding_size':{'values':[512]},\n",
        "        'hidden_size':{'values':[256]},\n",
        "        'batch_size':{'values':[512]},\n",
        "        'enc_dropout':{'values':[0]},\n",
        "        'dec_dropout':{'values':[0]},\n",
        "        'max_epochs':{'values':[30]},\n",
        "        'cell_type':{'values':['GRU']},\n",
        "        'learning_rate':{'values':[1e-3]},\n",
        "        'attention_bit':{'values':[True]}\n",
        "    }\n",
        "}\n",
        "sweepId=wandb.sweep(sweep_params,project = 'DL_assignment_3')\n",
        "wandb.agent(sweepId,function=main_func,count=3)\n",
        "wandb.finish()"
      ],
      "metadata": {
        "execution": {
          "iopub.status.busy": "2024-05-17T05:56:24.526693Z",
          "iopub.execute_input": "2024-05-17T05:56:24.527507Z",
          "iopub.status.idle": "2024-05-17T06:44:33.067051Z",
          "shell.execute_reply.started": "2024-05-17T05:56:24.527476Z",
          "shell.execute_reply": "2024-05-17T06:44:33.066163Z"
        },
        "trusted": true,
        "colab": {
          "referenced_widgets": [
            ""
          ]
        },
        "id": "V71piFZDmhTg",
        "outputId": "385b8747-18cf-4e23-cf71-167db6d3dcd1"
      },
      "execution_count": null,
      "outputs": [
        {
          "name": "stdout",
          "text": "Requirement already satisfied: wandb in /opt/conda/lib/python3.10/site-packages (0.16.6)\nRequirement already satisfied: Click!=8.0.0,>=7.1 in /opt/conda/lib/python3.10/site-packages (from wandb) (8.1.7)\nRequirement already satisfied: GitPython!=3.1.29,>=1.0.0 in /opt/conda/lib/python3.10/site-packages (from wandb) (3.1.41)\nRequirement already satisfied: requests<3,>=2.0.0 in /opt/conda/lib/python3.10/site-packages (from wandb) (2.31.0)\nRequirement already satisfied: psutil>=5.0.0 in /opt/conda/lib/python3.10/site-packages (from wandb) (5.9.3)\nRequirement already satisfied: sentry-sdk>=1.0.0 in /opt/conda/lib/python3.10/site-packages (from wandb) (1.45.0)\nRequirement already satisfied: docker-pycreds>=0.4.0 in /opt/conda/lib/python3.10/site-packages (from wandb) (0.4.0)\nRequirement already satisfied: PyYAML in /opt/conda/lib/python3.10/site-packages (from wandb) (6.0.1)\nRequirement already satisfied: setproctitle in /opt/conda/lib/python3.10/site-packages (from wandb) (1.3.3)\nRequirement already satisfied: setuptools in /opt/conda/lib/python3.10/site-packages (from wandb) (69.0.3)\nRequirement already satisfied: appdirs>=1.4.3 in /opt/conda/lib/python3.10/site-packages (from wandb) (1.4.4)\nRequirement already satisfied: protobuf!=4.21.0,<5,>=3.19.0 in /opt/conda/lib/python3.10/site-packages (from wandb) (3.20.3)\nRequirement already satisfied: six>=1.4.0 in /opt/conda/lib/python3.10/site-packages (from docker-pycreds>=0.4.0->wandb) (1.16.0)\nRequirement already satisfied: gitdb<5,>=4.0.1 in /opt/conda/lib/python3.10/site-packages (from GitPython!=3.1.29,>=1.0.0->wandb) (4.0.11)\nRequirement already satisfied: charset-normalizer<4,>=2 in /opt/conda/lib/python3.10/site-packages (from requests<3,>=2.0.0->wandb) (3.3.2)\nRequirement already satisfied: idna<4,>=2.5 in /opt/conda/lib/python3.10/site-packages (from requests<3,>=2.0.0->wandb) (3.6)\nRequirement already satisfied: urllib3<3,>=1.21.1 in /opt/conda/lib/python3.10/site-packages (from requests<3,>=2.0.0->wandb) (1.26.18)\nRequirement already satisfied: certifi>=2017.4.17 in /opt/conda/lib/python3.10/site-packages (from requests<3,>=2.0.0->wandb) (2024.2.2)\nRequirement already satisfied: smmap<6,>=3.0.1 in /opt/conda/lib/python3.10/site-packages (from gitdb<5,>=4.0.1->GitPython!=3.1.29,>=1.0.0->wandb) (5.0.1)\n",
          "output_type": "stream"
        },
        {
          "name": "stderr",
          "text": "2024-05-17 05:56:38.452658: E external/local_xla/xla/stream_executor/cuda/cuda_dnn.cc:9261] Unable to register cuDNN factory: Attempting to register factory for plugin cuDNN when one has already been registered\n2024-05-17 05:56:38.452783: E external/local_xla/xla/stream_executor/cuda/cuda_fft.cc:607] Unable to register cuFFT factory: Attempting to register factory for plugin cuFFT when one has already been registered\n2024-05-17 05:56:38.535740: E external/local_xla/xla/stream_executor/cuda/cuda_blas.cc:1515] Unable to register cuBLAS factory: Attempting to register factory for plugin cuBLAS when one has already been registered\n\u001b[34m\u001b[1mwandb\u001b[0m: Logging into wandb.ai. (Learn how to deploy a W&B server locally: https://wandb.me/wandb-server)\n\u001b[34m\u001b[1mwandb\u001b[0m: You can find your API key in your browser here: https://wandb.ai/authorize\n\u001b[34m\u001b[1mwandb\u001b[0m: Paste an API key from your profile and hit enter, or press ctrl+c to quit:",
          "output_type": "stream"
        },
        {
          "output_type": "stream",
          "name": "stdin",
          "text": "  ········································\n"
        },
        {
          "name": "stderr",
          "text": "\u001b[34m\u001b[1mwandb\u001b[0m: Appending key for api.wandb.ai to your netrc file: /root/.netrc\n\u001b[34m\u001b[1mwandb\u001b[0m: Currently logged in as: \u001b[33mksharathkumar111\u001b[0m (\u001b[33mcs23m033_dl_assignment_1\u001b[0m). Use \u001b[1m`wandb login --relogin`\u001b[0m to force relogin\n",
          "output_type": "stream"
        },
        {
          "output_type": "display_data",
          "data": {
            "text/plain": "<IPython.core.display.HTML object>",
            "text/html": "wandb version 0.17.0 is available!  To upgrade, please run:\n $ pip install wandb --upgrade"
          },
          "metadata": {}
        },
        {
          "output_type": "display_data",
          "data": {
            "text/plain": "<IPython.core.display.HTML object>",
            "text/html": "Tracking run with wandb version 0.16.6"
          },
          "metadata": {}
        },
        {
          "output_type": "display_data",
          "data": {
            "text/plain": "<IPython.core.display.HTML object>",
            "text/html": "Run data is saved locally in <code>/kaggle/working/wandb/run-20240517_055722-mnbcwwe8</code>"
          },
          "metadata": {}
        },
        {
          "output_type": "display_data",
          "data": {
            "text/plain": "<IPython.core.display.HTML object>",
            "text/html": "Syncing run <strong><a href='https://wandb.ai/cs23m033_dl_assignment_1/DL_assignment_3/runs/mnbcwwe8' target=\"_blank\">denim-pine-120</a></strong> to <a href='https://wandb.ai/cs23m033_dl_assignment_1/DL_assignment_3' target=\"_blank\">Weights & Biases</a> (<a href='https://wandb.me/run' target=\"_blank\">docs</a>)<br/>"
          },
          "metadata": {}
        },
        {
          "output_type": "display_data",
          "data": {
            "text/plain": "<IPython.core.display.HTML object>",
            "text/html": " View project at <a href='https://wandb.ai/cs23m033_dl_assignment_1/DL_assignment_3' target=\"_blank\">https://wandb.ai/cs23m033_dl_assignment_1/DL_assignment_3</a>"
          },
          "metadata": {}
        },
        {
          "output_type": "display_data",
          "data": {
            "text/plain": "<IPython.core.display.HTML object>",
            "text/html": " View run at <a href='https://wandb.ai/cs23m033_dl_assignment_1/DL_assignment_3/runs/mnbcwwe8' target=\"_blank\">https://wandb.ai/cs23m033_dl_assignment_1/DL_assignment_3/runs/mnbcwwe8</a>"
          },
          "metadata": {}
        },
        {
          "name": "stderr",
          "text": "\u001b[34m\u001b[1mwandb\u001b[0m: \u001b[33mWARNING\u001b[0m Calling wandb.login() after wandb.init() has no effect.\n",
          "output_type": "stream"
        },
        {
          "name": "stdout",
          "text": "Create sweep with ID: qsad25nf\nSweep URL: https://wandb.ai/cs23m033_dl_assignment_1/DL_assignment_3/sweeps/qsad25nf\n",
          "output_type": "stream"
        },
        {
          "name": "stderr",
          "text": "\u001b[34m\u001b[1mwandb\u001b[0m: Agent Starting Run: cd2h49ck with config:\n\u001b[34m\u001b[1mwandb\u001b[0m: \tattention_bit: True\n\u001b[34m\u001b[1mwandb\u001b[0m: \tbatch_size: 512\n\u001b[34m\u001b[1mwandb\u001b[0m: \tbi_directional_bit: True\n\u001b[34m\u001b[1mwandb\u001b[0m: \tcell_type: GRU\n\u001b[34m\u001b[1mwandb\u001b[0m: \tdec_dropout: 0\n\u001b[34m\u001b[1mwandb\u001b[0m: \tdec_layers: 3\n\u001b[34m\u001b[1mwandb\u001b[0m: \tembedding_size: 512\n\u001b[34m\u001b[1mwandb\u001b[0m: \tenc_dropout: 0\n\u001b[34m\u001b[1mwandb\u001b[0m: \tenc_layers: 3\n\u001b[34m\u001b[1mwandb\u001b[0m: \thidden_size: 256\n\u001b[34m\u001b[1mwandb\u001b[0m: \tlearning_rate: 0.001\n\u001b[34m\u001b[1mwandb\u001b[0m: \tmax_epochs: 30\n",
          "output_type": "stream"
        },
        {
          "name": "stdout",
          "text": "VBox(children=(Label(value='0.001 MB of 0.001 MB uploaded\\r'), FloatProgress(value=1.0, max=1.0)))\n<IPython.core.display.HTML object>\n<IPython.core.display.HTML object>\n",
          "output_type": "stream"
        },
        {
          "name": "stderr",
          "text": "\u001b[34m\u001b[1mwandb\u001b[0m: \u001b[33mWARNING\u001b[0m Ignored wandb.init() arg project when running a sweep.\n",
          "output_type": "stream"
        },
        {
          "output_type": "display_data",
          "data": {
            "text/plain": "<IPython.core.display.HTML object>",
            "text/html": "wandb version 0.17.0 is available!  To upgrade, please run:\n $ pip install wandb --upgrade"
          },
          "metadata": {}
        },
        {
          "output_type": "display_data",
          "data": {
            "text/plain": "<IPython.core.display.HTML object>",
            "text/html": "Tracking run with wandb version 0.16.6"
          },
          "metadata": {}
        },
        {
          "output_type": "display_data",
          "data": {
            "text/plain": "<IPython.core.display.HTML object>",
            "text/html": "Run data is saved locally in <code>/kaggle/working/wandb/run-20240517_055759-cd2h49ck</code>"
          },
          "metadata": {}
        },
        {
          "output_type": "display_data",
          "data": {
            "text/plain": "<IPython.core.display.HTML object>",
            "text/html": "Syncing run <strong><a href='https://wandb.ai/cs23m033_dl_assignment_1/DL_assignment_3/runs/cd2h49ck' target=\"_blank\">solar-sweep-1</a></strong> to <a href='https://wandb.ai/cs23m033_dl_assignment_1/DL_assignment_3' target=\"_blank\">Weights & Biases</a> (<a href='https://wandb.me/run' target=\"_blank\">docs</a>)<br/>Sweep page: <a href='https://wandb.ai/cs23m033_dl_assignment_1/DL_assignment_3/sweeps/qsad25nf' target=\"_blank\">https://wandb.ai/cs23m033_dl_assignment_1/DL_assignment_3/sweeps/qsad25nf</a>"
          },
          "metadata": {}
        },
        {
          "output_type": "display_data",
          "data": {
            "text/plain": "<IPython.core.display.HTML object>",
            "text/html": " View project at <a href='https://wandb.ai/cs23m033_dl_assignment_1/DL_assignment_3' target=\"_blank\">https://wandb.ai/cs23m033_dl_assignment_1/DL_assignment_3</a>"
          },
          "metadata": {}
        },
        {
          "output_type": "display_data",
          "data": {
            "text/plain": "<IPython.core.display.HTML object>",
            "text/html": " View sweep at <a href='https://wandb.ai/cs23m033_dl_assignment_1/DL_assignment_3/sweeps/qsad25nf' target=\"_blank\">https://wandb.ai/cs23m033_dl_assignment_1/DL_assignment_3/sweeps/qsad25nf</a>"
          },
          "metadata": {}
        },
        {
          "output_type": "display_data",
          "data": {
            "text/plain": "<IPython.core.display.HTML object>",
            "text/html": " View run at <a href='https://wandb.ai/cs23m033_dl_assignment_1/DL_assignment_3/runs/cd2h49ck' target=\"_blank\">https://wandb.ai/cs23m033_dl_assignment_1/DL_assignment_3/runs/cd2h49ck</a>"
          },
          "metadata": {}
        },
        {
          "name": "stderr",
          "text": "\u001b[34m\u001b[1mwandb\u001b[0m: \u001b[33mWARNING\u001b[0m Ignored wandb.init() arg project when running a sweep.\n",
          "output_type": "stream"
        },
        {
          "output_type": "display_data",
          "data": {
            "text/plain": "<IPython.core.display.HTML object>",
            "text/html": "Finishing last run (ID:cd2h49ck) before initializing another..."
          },
          "metadata": {}
        },
        {
          "output_type": "display_data",
          "data": {
            "text/plain": "VBox(children=(Label(value='0.001 MB of 0.001 MB uploaded\\r'), FloatProgress(value=1.0, max=1.0)))",
            "application/vnd.jupyter.widget-view+json": {
              "version_major": 2,
              "version_minor": 0,
              "model_id": ""
            }
          },
          "metadata": {}
        },
        {
          "output_type": "display_data",
          "data": {
            "text/plain": "<IPython.core.display.HTML object>",
            "text/html": " View run <strong style=\"color:#cdcd00\">solar-sweep-1</strong> at: <a href='https://wandb.ai/cs23m033_dl_assignment_1/DL_assignment_3/runs/cd2h49ck' target=\"_blank\">https://wandb.ai/cs23m033_dl_assignment_1/DL_assignment_3/runs/cd2h49ck</a><br/> View project at: <a href='https://wandb.ai/cs23m033_dl_assignment_1/DL_assignment_3' target=\"_blank\">https://wandb.ai/cs23m033_dl_assignment_1/DL_assignment_3</a><br/>Synced 5 W&B file(s), 0 media file(s), 0 artifact file(s) and 0 other file(s)"
          },
          "metadata": {}
        },
        {
          "output_type": "display_data",
          "data": {
            "text/plain": "<IPython.core.display.HTML object>",
            "text/html": "Find logs at: <code>./wandb/run-20240517_055759-cd2h49ck/logs</code>"
          },
          "metadata": {}
        },
        {
          "output_type": "display_data",
          "data": {
            "text/plain": "<IPython.core.display.HTML object>",
            "text/html": "Successfully finished last run (ID:cd2h49ck). Initializing new run:<br/>"
          },
          "metadata": {}
        },
        {
          "output_type": "display_data",
          "data": {
            "text/plain": "<IPython.core.display.HTML object>",
            "text/html": "wandb version 0.17.0 is available!  To upgrade, please run:\n $ pip install wandb --upgrade"
          },
          "metadata": {}
        },
        {
          "output_type": "display_data",
          "data": {
            "text/plain": "<IPython.core.display.HTML object>",
            "text/html": "Tracking run with wandb version 0.16.6"
          },
          "metadata": {}
        },
        {
          "output_type": "display_data",
          "data": {
            "text/plain": "<IPython.core.display.HTML object>",
            "text/html": "Run data is saved locally in <code>/kaggle/working/wandb/run-20240517_055815-cd2h49ck</code>"
          },
          "metadata": {}
        },
        {
          "output_type": "display_data",
          "data": {
            "text/plain": "<IPython.core.display.HTML object>",
            "text/html": "Syncing run <strong><a href='https://wandb.ai/cs23m033_dl_assignment_1/DL_assignment_3/runs/cd2h49ck' target=\"_blank\">bi_bitTruecell_typeGRUatn_bitTrueenc_lay3dec_lay3</a></strong> to <a href='https://wandb.ai/cs23m033_dl_assignment_1/DL_assignment_3' target=\"_blank\">Weights & Biases</a> (<a href='https://wandb.me/run' target=\"_blank\">docs</a>)<br/>Sweep page: <a href='https://wandb.ai/cs23m033_dl_assignment_1/DL_assignment_3/sweeps/qsad25nf' target=\"_blank\">https://wandb.ai/cs23m033_dl_assignment_1/DL_assignment_3/sweeps/qsad25nf</a>"
          },
          "metadata": {}
        },
        {
          "output_type": "display_data",
          "data": {
            "text/plain": "<IPython.core.display.HTML object>",
            "text/html": " View project at <a href='https://wandb.ai/cs23m033_dl_assignment_1/DL_assignment_3' target=\"_blank\">https://wandb.ai/cs23m033_dl_assignment_1/DL_assignment_3</a>"
          },
          "metadata": {}
        },
        {
          "output_type": "display_data",
          "data": {
            "text/plain": "<IPython.core.display.HTML object>",
            "text/html": " View sweep at <a href='https://wandb.ai/cs23m033_dl_assignment_1/DL_assignment_3/sweeps/qsad25nf' target=\"_blank\">https://wandb.ai/cs23m033_dl_assignment_1/DL_assignment_3/sweeps/qsad25nf</a>"
          },
          "metadata": {}
        },
        {
          "output_type": "display_data",
          "data": {
            "text/plain": "<IPython.core.display.HTML object>",
            "text/html": " View run at <a href='https://wandb.ai/cs23m033_dl_assignment_1/DL_assignment_3/runs/cd2h49ck' target=\"_blank\">https://wandb.ai/cs23m033_dl_assignment_1/DL_assignment_3/runs/cd2h49ck</a>"
          },
          "metadata": {}
        },
        {
          "name": "stdout",
          "text": "epoch:  1\n",
          "output_type": "stream"
        },
        {
          "name": "stderr",
          "text": "  0%|          | 0/100 [00:00<?, ?it/s]/tmp/ipykernel_34/801931408.py:37: UserWarning: torch.nn.utils.clip_grad_norm is now deprecated in favor of torch.nn.utils.clip_grad_norm_.\n  torch.nn.utils.clip_grad_norm(model.parameters(),max_norm=1)\n100%|██████████| 100/100 [00:18<00:00,  5.45it/s]\n",
          "output_type": "stream"
        },
        {
          "name": "stdout",
          "text": "total loss:  tensor(1.6693, device='cuda:0', grad_fn=<DivBackward0>)\ntrain accuracy:  0.005859375\nvalid accuracy:  0.146484375\ntest accuracy:  0.0244140625\nepoch:  2\n",
          "output_type": "stream"
        },
        {
          "name": "stderr",
          "text": "100%|██████████| 100/100 [00:18<00:00,  5.50it/s]\n",
          "output_type": "stream"
        },
        {
          "name": "stdout",
          "text": "total loss:  tensor(1.0856, device='cuda:0', grad_fn=<DivBackward0>)\ntrain accuracy:  0.998046875\nvalid accuracy:  2.9052734375\ntest accuracy:  2.8564453125\nepoch:  3\n",
          "output_type": "stream"
        },
        {
          "name": "stderr",
          "text": "100%|██████████| 100/100 [00:19<00:00,  5.09it/s]\n",
          "output_type": "stream"
        },
        {
          "name": "stdout",
          "text": "total loss:  tensor(0.7027, device='cuda:0', grad_fn=<DivBackward0>)\ntrain accuracy:  10.900390625\nvalid accuracy:  16.552734375\ntest accuracy:  15.3076171875\nepoch:  4\n",
          "output_type": "stream"
        },
        {
          "name": "stderr",
          "text": "100%|██████████| 100/100 [00:20<00:00,  4.80it/s]\n",
          "output_type": "stream"
        },
        {
          "name": "stdout",
          "text": "total loss:  tensor(0.4234, device='cuda:0', grad_fn=<DivBackward0>)\ntrain accuracy:  27.02734375\nvalid accuracy:  28.8818359375\ntest accuracy:  26.4404296875\nepoch:  5\n",
          "output_type": "stream"
        },
        {
          "name": "stderr",
          "text": "100%|██████████| 100/100 [00:19<00:00,  5.00it/s]\n",
          "output_type": "stream"
        },
        {
          "name": "stdout",
          "text": "total loss:  tensor(0.2624, device='cuda:0', grad_fn=<DivBackward0>)\ntrain accuracy:  44.939453125\nvalid accuracy:  40.9912109375\ntest accuracy:  38.28125\nepoch:  6\n",
          "output_type": "stream"
        },
        {
          "name": "stderr",
          "text": "100%|██████████| 100/100 [00:20<00:00,  4.97it/s]\n",
          "output_type": "stream"
        },
        {
          "name": "stdout",
          "text": "total loss:  tensor(0.2049, device='cuda:0', grad_fn=<DivBackward0>)\ntrain accuracy:  51.40234375\nvalid accuracy:  43.6767578125\ntest accuracy:  41.0888671875\nepoch:  7\n",
          "output_type": "stream"
        },
        {
          "name": "stderr",
          "text": "100%|██████████| 100/100 [00:20<00:00,  4.95it/s]\n",
          "output_type": "stream"
        },
        {
          "name": "stdout",
          "text": "total loss:  tensor(0.1648, device='cuda:0', grad_fn=<DivBackward0>)\ntrain accuracy:  54.662109375\nvalid accuracy:  46.435546875\ntest accuracy:  42.919921875\nepoch:  8\n",
          "output_type": "stream"
        },
        {
          "name": "stderr",
          "text": "100%|██████████| 100/100 [00:20<00:00,  4.96it/s]\n",
          "output_type": "stream"
        },
        {
          "name": "stdout",
          "text": "total loss:  tensor(0.1328, device='cuda:0', grad_fn=<DivBackward0>)\ntrain accuracy:  63.162109375\nvalid accuracy:  47.607421875\ntest accuracy:  44.384765625\nepoch:  9\n",
          "output_type": "stream"
        },
        {
          "name": "stderr",
          "text": "100%|██████████| 100/100 [00:20<00:00,  4.96it/s]\n",
          "output_type": "stream"
        },
        {
          "name": "stdout",
          "text": "total loss:  tensor(0.1148, device='cuda:0', grad_fn=<DivBackward0>)\ntrain accuracy:  62.083984375\nvalid accuracy:  45.3857421875\ntest accuracy:  42.48046875\nepoch:  10\n",
          "output_type": "stream"
        },
        {
          "name": "stderr",
          "text": "100%|██████████| 100/100 [00:20<00:00,  4.95it/s]\n",
          "output_type": "stream"
        },
        {
          "name": "stdout",
          "text": "total loss:  tensor(0.1060, device='cuda:0', grad_fn=<DivBackward0>)\ntrain accuracy:  64.125\nvalid accuracy:  46.8017578125\ntest accuracy:  43.8232421875\nepoch:  11\n",
          "output_type": "stream"
        },
        {
          "name": "stderr",
          "text": "100%|██████████| 100/100 [00:20<00:00,  4.95it/s]\n",
          "output_type": "stream"
        },
        {
          "name": "stdout",
          "text": "total loss:  tensor(0.0967, device='cuda:0', grad_fn=<DivBackward0>)\ntrain accuracy:  72.98828125\nvalid accuracy:  50.9765625\ntest accuracy:  47.75390625\nepoch:  12\n",
          "output_type": "stream"
        },
        {
          "name": "stderr",
          "text": "100%|██████████| 100/100 [00:20<00:00,  4.95it/s]\n",
          "output_type": "stream"
        },
        {
          "name": "stdout",
          "text": "total loss:  tensor(0.0871, device='cuda:0', grad_fn=<DivBackward0>)\ntrain accuracy:  72.544921875\nvalid accuracy:  51.025390625\ntest accuracy:  47.4853515625\nepoch:  13\n",
          "output_type": "stream"
        },
        {
          "name": "stderr",
          "text": "100%|██████████| 100/100 [00:20<00:00,  4.96it/s]\n",
          "output_type": "stream"
        },
        {
          "name": "stdout",
          "text": "total loss:  tensor(0.0800, device='cuda:0', grad_fn=<DivBackward0>)\ntrain accuracy:  76.7265625\nvalid accuracy:  53.564453125\ntest accuracy:  49.8291015625\nepoch:  14\n",
          "output_type": "stream"
        },
        {
          "name": "stderr",
          "text": "100%|██████████| 100/100 [00:20<00:00,  4.96it/s]\n",
          "output_type": "stream"
        },
        {
          "name": "stdout",
          "text": "total loss:  tensor(0.0610, device='cuda:0', grad_fn=<DivBackward0>)\ntrain accuracy:  80.578125\nvalid accuracy:  54.296875\ntest accuracy:  50.5126953125\nepoch:  15\n",
          "output_type": "stream"
        },
        {
          "name": "stderr",
          "text": "100%|██████████| 100/100 [00:20<00:00,  4.96it/s]\n",
          "output_type": "stream"
        },
        {
          "name": "stdout",
          "text": "total loss:  tensor(0.0524, device='cuda:0', grad_fn=<DivBackward0>)\ntrain accuracy:  81.716796875\nvalid accuracy:  53.515625\ntest accuracy:  49.2431640625\nepoch:  16\n",
          "output_type": "stream"
        },
        {
          "name": "stderr",
          "text": "100%|██████████| 100/100 [00:20<00:00,  4.95it/s]\n",
          "output_type": "stream"
        },
        {
          "name": "stdout",
          "text": "total loss:  tensor(0.0519, device='cuda:0', grad_fn=<DivBackward0>)\ntrain accuracy:  79.681640625\nvalid accuracy:  53.22265625\ntest accuracy:  50.4638671875\nepoch:  17\n",
          "output_type": "stream"
        },
        {
          "name": "stderr",
          "text": "100%|██████████| 100/100 [00:20<00:00,  4.95it/s]\n",
          "output_type": "stream"
        },
        {
          "name": "stdout",
          "text": "total loss:  tensor(0.0564, device='cuda:0', grad_fn=<DivBackward0>)\ntrain accuracy:  76.603515625\nvalid accuracy:  52.4658203125\ntest accuracy:  49.0478515625\nepoch:  18\n",
          "output_type": "stream"
        },
        {
          "name": "stderr",
          "text": "100%|██████████| 100/100 [00:20<00:00,  4.95it/s]\n",
          "output_type": "stream"
        },
        {
          "name": "stdout",
          "text": "total loss:  tensor(0.0528, device='cuda:0', grad_fn=<DivBackward0>)\ntrain accuracy:  80.435546875\nvalid accuracy:  51.1962890625\ntest accuracy:  46.97265625\nepoch:  19\n",
          "output_type": "stream"
        },
        {
          "name": "stderr",
          "text": "100%|██████████| 100/100 [00:20<00:00,  4.96it/s]\n",
          "output_type": "stream"
        },
        {
          "name": "stdout",
          "text": "total loss:  tensor(0.0442, device='cuda:0', grad_fn=<DivBackward0>)\ntrain accuracy:  85.095703125\nvalid accuracy:  52.63671875\ntest accuracy:  48.4619140625\nepoch:  20\n",
          "output_type": "stream"
        },
        {
          "name": "stderr",
          "text": "100%|██████████| 100/100 [00:20<00:00,  4.96it/s]\n",
          "output_type": "stream"
        },
        {
          "name": "stdout",
          "text": "total loss:  tensor(0.0331, device='cuda:0', grad_fn=<DivBackward0>)\ntrain accuracy:  89.205078125\nvalid accuracy:  54.0283203125\ntest accuracy:  50.4638671875\nepoch:  21\n",
          "output_type": "stream"
        },
        {
          "name": "stderr",
          "text": "100%|██████████| 100/100 [00:20<00:00,  4.95it/s]\n",
          "output_type": "stream"
        },
        {
          "name": "stdout",
          "text": "total loss:  tensor(0.0269, device='cuda:0', grad_fn=<DivBackward0>)\ntrain accuracy:  91.58984375\nvalid accuracy:  55.4443359375\ntest accuracy:  50.5615234375\nepoch:  22\n",
          "output_type": "stream"
        },
        {
          "name": "stderr",
          "text": "100%|██████████| 100/100 [00:20<00:00,  4.96it/s]\n",
          "output_type": "stream"
        },
        {
          "name": "stdout",
          "text": "total loss:  tensor(0.0238, device='cuda:0', grad_fn=<DivBackward0>)\ntrain accuracy:  92.3203125\nvalid accuracy:  55.56640625\ntest accuracy:  52.2705078125\nepoch:  23\n",
          "output_type": "stream"
        },
        {
          "name": "stderr",
          "text": "100%|██████████| 100/100 [00:20<00:00,  4.95it/s]\n",
          "output_type": "stream"
        },
        {
          "name": "stdout",
          "text": "total loss:  tensor(0.0248, device='cuda:0', grad_fn=<DivBackward0>)\ntrain accuracy:  91.623046875\nvalid accuracy:  55.1025390625\ntest accuracy:  51.3671875\nepoch:  24\n",
          "output_type": "stream"
        },
        {
          "name": "stderr",
          "text": "100%|██████████| 100/100 [00:20<00:00,  4.96it/s]\n",
          "output_type": "stream"
        },
        {
          "name": "stdout",
          "text": "total loss:  tensor(0.0228, device='cuda:0', grad_fn=<DivBackward0>)\ntrain accuracy:  91.564453125\nvalid accuracy:  54.443359375\ntest accuracy:  51.1962890625\nepoch:  25\n",
          "output_type": "stream"
        },
        {
          "name": "stderr",
          "text": "100%|██████████| 100/100 [00:20<00:00,  4.96it/s]\n",
          "output_type": "stream"
        },
        {
          "name": "stdout",
          "text": "total loss:  tensor(0.0195, device='cuda:0', grad_fn=<DivBackward0>)\ntrain accuracy:  90.55859375\nvalid accuracy:  53.6865234375\ntest accuracy:  50.537109375\nepoch:  26\n",
          "output_type": "stream"
        },
        {
          "name": "stderr",
          "text": "100%|██████████| 100/100 [00:20<00:00,  4.96it/s]\n",
          "output_type": "stream"
        },
        {
          "name": "stdout",
          "text": "total loss:  tensor(0.0205, device='cuda:0', grad_fn=<DivBackward0>)\ntrain accuracy:  86.140625\nvalid accuracy:  50.634765625\ntest accuracy:  47.1435546875\nepoch:  27\n",
          "output_type": "stream"
        },
        {
          "name": "stderr",
          "text": "100%|██████████| 100/100 [00:20<00:00,  4.96it/s]\n",
          "output_type": "stream"
        },
        {
          "name": "stdout",
          "text": "total loss:  tensor(0.0187, device='cuda:0', grad_fn=<DivBackward0>)\ntrain accuracy:  90.96875\nvalid accuracy:  54.052734375\ntest accuracy:  48.92578125\nepoch:  28\n",
          "output_type": "stream"
        },
        {
          "name": "stderr",
          "text": "100%|██████████| 100/100 [00:20<00:00,  4.96it/s]\n",
          "output_type": "stream"
        },
        {
          "name": "stdout",
          "text": "total loss:  tensor(0.0213, device='cuda:0', grad_fn=<DivBackward0>)\ntrain accuracy:  90.94921875\nvalid accuracy:  52.7099609375\ntest accuracy:  48.681640625\nepoch:  29\n",
          "output_type": "stream"
        },
        {
          "name": "stderr",
          "text": "100%|██████████| 100/100 [00:20<00:00,  4.95it/s]\n",
          "output_type": "stream"
        },
        {
          "name": "stdout",
          "text": "total loss:  tensor(0.0187, device='cuda:0', grad_fn=<DivBackward0>)\ntrain accuracy:  87.25390625\nvalid accuracy:  50.0\ntest accuracy:  46.3623046875\nepoch:  30\n",
          "output_type": "stream"
        },
        {
          "name": "stderr",
          "text": "100%|██████████| 100/100 [00:20<00:00,  4.95it/s]\n",
          "output_type": "stream"
        },
        {
          "name": "stdout",
          "text": "total loss:  tensor(0.0200, device='cuda:0', grad_fn=<DivBackward0>)\ntrain accuracy:  91.3125\nvalid accuracy:  53.5888671875\ntest accuracy:  48.8525390625\n",
          "output_type": "stream"
        },
        {
          "output_type": "display_data",
          "data": {
            "text/plain": "VBox(children=(Label(value='0.001 MB of 0.001 MB uploaded\\r'), FloatProgress(value=1.0, max=1.0)))",
            "application/vnd.jupyter.widget-view+json": {
              "version_major": 2,
              "version_minor": 0,
              "model_id": ""
            }
          },
          "metadata": {}
        },
        {
          "output_type": "display_data",
          "data": {
            "text/plain": "<IPython.core.display.HTML object>",
            "text/html": "<style>\n    table.wandb td:nth-child(1) { padding: 0 10px; text-align: left ; width: auto;} td:nth-child(2) {text-align: left ; width: 100%}\n    .wandb-row { display: flex; flex-direction: row; flex-wrap: wrap; justify-content: flex-start; width: 100% }\n    .wandb-col { display: flex; flex-direction: column; flex-basis: 100%; flex: 1; padding: 10px; }\n    </style>\n<div class=\"wandb-row\"><div class=\"wandb-col\"><h3>Run history:</h3><br/><table class=\"wandb\"><tr><td>test accuracy_attn</td><td>▁▁▃▅▆▇▇▇▇▇▇▇█████▇▇██████▇██▇█</td></tr></table><br/></div><div class=\"wandb-col\"><h3>Run summary:</h3><br/><table class=\"wandb\"><tr><td>test accuracy_attn</td><td>48.85254</td></tr></table><br/></div></div>"
          },
          "metadata": {}
        },
        {
          "output_type": "display_data",
          "data": {
            "text/plain": "<IPython.core.display.HTML object>",
            "text/html": " View run <strong style=\"color:#cdcd00\">bi_bitTruecell_typeGRUatn_bitTrueenc_lay3dec_lay3</strong> at: <a href='https://wandb.ai/cs23m033_dl_assignment_1/DL_assignment_3/runs/cd2h49ck' target=\"_blank\">https://wandb.ai/cs23m033_dl_assignment_1/DL_assignment_3/runs/cd2h49ck</a><br/> View project at: <a href='https://wandb.ai/cs23m033_dl_assignment_1/DL_assignment_3' target=\"_blank\">https://wandb.ai/cs23m033_dl_assignment_1/DL_assignment_3</a><br/>Synced 5 W&B file(s), 0 media file(s), 0 artifact file(s) and 0 other file(s)"
          },
          "metadata": {}
        },
        {
          "output_type": "display_data",
          "data": {
            "text/plain": "<IPython.core.display.HTML object>",
            "text/html": "Find logs at: <code>./wandb/run-20240517_055815-cd2h49ck/logs</code>"
          },
          "metadata": {}
        },
        {
          "name": "stderr",
          "text": "\u001b[34m\u001b[1mwandb\u001b[0m: Agent Starting Run: clgcn6ue with config:\n\u001b[34m\u001b[1mwandb\u001b[0m: \tattention_bit: True\n\u001b[34m\u001b[1mwandb\u001b[0m: \tbatch_size: 512\n\u001b[34m\u001b[1mwandb\u001b[0m: \tbi_directional_bit: True\n\u001b[34m\u001b[1mwandb\u001b[0m: \tcell_type: GRU\n\u001b[34m\u001b[1mwandb\u001b[0m: \tdec_dropout: 0\n\u001b[34m\u001b[1mwandb\u001b[0m: \tdec_layers: 3\n\u001b[34m\u001b[1mwandb\u001b[0m: \tembedding_size: 512\n\u001b[34m\u001b[1mwandb\u001b[0m: \tenc_dropout: 0\n\u001b[34m\u001b[1mwandb\u001b[0m: \tenc_layers: 3\n\u001b[34m\u001b[1mwandb\u001b[0m: \thidden_size: 256\n\u001b[34m\u001b[1mwandb\u001b[0m: \tlearning_rate: 0.001\n\u001b[34m\u001b[1mwandb\u001b[0m: \tmax_epochs: 30\n\u001b[34m\u001b[1mwandb\u001b[0m: \u001b[33mWARNING\u001b[0m Ignored wandb.init() arg project when running a sweep.\n",
          "output_type": "stream"
        },
        {
          "output_type": "display_data",
          "data": {
            "text/plain": "<IPython.core.display.HTML object>",
            "text/html": "wandb version 0.17.0 is available!  To upgrade, please run:\n $ pip install wandb --upgrade"
          },
          "metadata": {}
        },
        {
          "output_type": "display_data",
          "data": {
            "text/plain": "<IPython.core.display.HTML object>",
            "text/html": "Tracking run with wandb version 0.16.6"
          },
          "metadata": {}
        },
        {
          "output_type": "display_data",
          "data": {
            "text/plain": "<IPython.core.display.HTML object>",
            "text/html": "Run data is saved locally in <code>/kaggle/working/wandb/run-20240517_061330-clgcn6ue</code>"
          },
          "metadata": {}
        },
        {
          "output_type": "display_data",
          "data": {
            "text/plain": "<IPython.core.display.HTML object>",
            "text/html": "Syncing run <strong><a href='https://wandb.ai/cs23m033_dl_assignment_1/DL_assignment_3/runs/clgcn6ue' target=\"_blank\">flowing-sweep-2</a></strong> to <a href='https://wandb.ai/cs23m033_dl_assignment_1/DL_assignment_3' target=\"_blank\">Weights & Biases</a> (<a href='https://wandb.me/run' target=\"_blank\">docs</a>)<br/>Sweep page: <a href='https://wandb.ai/cs23m033_dl_assignment_1/DL_assignment_3/sweeps/qsad25nf' target=\"_blank\">https://wandb.ai/cs23m033_dl_assignment_1/DL_assignment_3/sweeps/qsad25nf</a>"
          },
          "metadata": {}
        },
        {
          "output_type": "display_data",
          "data": {
            "text/plain": "<IPython.core.display.HTML object>",
            "text/html": " View project at <a href='https://wandb.ai/cs23m033_dl_assignment_1/DL_assignment_3' target=\"_blank\">https://wandb.ai/cs23m033_dl_assignment_1/DL_assignment_3</a>"
          },
          "metadata": {}
        },
        {
          "output_type": "display_data",
          "data": {
            "text/plain": "<IPython.core.display.HTML object>",
            "text/html": " View sweep at <a href='https://wandb.ai/cs23m033_dl_assignment_1/DL_assignment_3/sweeps/qsad25nf' target=\"_blank\">https://wandb.ai/cs23m033_dl_assignment_1/DL_assignment_3/sweeps/qsad25nf</a>"
          },
          "metadata": {}
        },
        {
          "output_type": "display_data",
          "data": {
            "text/plain": "<IPython.core.display.HTML object>",
            "text/html": " View run at <a href='https://wandb.ai/cs23m033_dl_assignment_1/DL_assignment_3/runs/clgcn6ue' target=\"_blank\">https://wandb.ai/cs23m033_dl_assignment_1/DL_assignment_3/runs/clgcn6ue</a>"
          },
          "metadata": {}
        },
        {
          "name": "stderr",
          "text": "\u001b[34m\u001b[1mwandb\u001b[0m: \u001b[33mWARNING\u001b[0m Ignored wandb.init() arg project when running a sweep.\n",
          "output_type": "stream"
        },
        {
          "output_type": "display_data",
          "data": {
            "text/plain": "<IPython.core.display.HTML object>",
            "text/html": "Finishing last run (ID:clgcn6ue) before initializing another..."
          },
          "metadata": {}
        },
        {
          "output_type": "display_data",
          "data": {
            "text/plain": "VBox(children=(Label(value='0.001 MB of 0.001 MB uploaded\\r'), FloatProgress(value=1.0, max=1.0)))",
            "application/vnd.jupyter.widget-view+json": {
              "version_major": 2,
              "version_minor": 0,
              "model_id": ""
            }
          },
          "metadata": {}
        },
        {
          "output_type": "display_data",
          "data": {
            "text/plain": "<IPython.core.display.HTML object>",
            "text/html": " View run <strong style=\"color:#cdcd00\">flowing-sweep-2</strong> at: <a href='https://wandb.ai/cs23m033_dl_assignment_1/DL_assignment_3/runs/clgcn6ue' target=\"_blank\">https://wandb.ai/cs23m033_dl_assignment_1/DL_assignment_3/runs/clgcn6ue</a><br/> View project at: <a href='https://wandb.ai/cs23m033_dl_assignment_1/DL_assignment_3' target=\"_blank\">https://wandb.ai/cs23m033_dl_assignment_1/DL_assignment_3</a><br/>Synced 5 W&B file(s), 0 media file(s), 0 artifact file(s) and 0 other file(s)"
          },
          "metadata": {}
        },
        {
          "output_type": "display_data",
          "data": {
            "text/plain": "<IPython.core.display.HTML object>",
            "text/html": "Find logs at: <code>./wandb/run-20240517_061330-clgcn6ue/logs</code>"
          },
          "metadata": {}
        },
        {
          "output_type": "display_data",
          "data": {
            "text/plain": "<IPython.core.display.HTML object>",
            "text/html": "Successfully finished last run (ID:clgcn6ue). Initializing new run:<br/>"
          },
          "metadata": {}
        },
        {
          "output_type": "display_data",
          "data": {
            "text/plain": "<IPython.core.display.HTML object>",
            "text/html": "wandb version 0.17.0 is available!  To upgrade, please run:\n $ pip install wandb --upgrade"
          },
          "metadata": {}
        },
        {
          "output_type": "display_data",
          "data": {
            "text/plain": "<IPython.core.display.HTML object>",
            "text/html": "Tracking run with wandb version 0.16.6"
          },
          "metadata": {}
        },
        {
          "output_type": "display_data",
          "data": {
            "text/plain": "<IPython.core.display.HTML object>",
            "text/html": "Run data is saved locally in <code>/kaggle/working/wandb/run-20240517_061347-clgcn6ue</code>"
          },
          "metadata": {}
        },
        {
          "output_type": "display_data",
          "data": {
            "text/plain": "<IPython.core.display.HTML object>",
            "text/html": "Syncing run <strong><a href='https://wandb.ai/cs23m033_dl_assignment_1/DL_assignment_3/runs/clgcn6ue' target=\"_blank\">bi_bitTruecell_typeGRUatn_bitTrueenc_lay3dec_lay3</a></strong> to <a href='https://wandb.ai/cs23m033_dl_assignment_1/DL_assignment_3' target=\"_blank\">Weights & Biases</a> (<a href='https://wandb.me/run' target=\"_blank\">docs</a>)<br/>Sweep page: <a href='https://wandb.ai/cs23m033_dl_assignment_1/DL_assignment_3/sweeps/qsad25nf' target=\"_blank\">https://wandb.ai/cs23m033_dl_assignment_1/DL_assignment_3/sweeps/qsad25nf</a>"
          },
          "metadata": {}
        },
        {
          "output_type": "display_data",
          "data": {
            "text/plain": "<IPython.core.display.HTML object>",
            "text/html": " View project at <a href='https://wandb.ai/cs23m033_dl_assignment_1/DL_assignment_3' target=\"_blank\">https://wandb.ai/cs23m033_dl_assignment_1/DL_assignment_3</a>"
          },
          "metadata": {}
        },
        {
          "output_type": "display_data",
          "data": {
            "text/plain": "<IPython.core.display.HTML object>",
            "text/html": " View sweep at <a href='https://wandb.ai/cs23m033_dl_assignment_1/DL_assignment_3/sweeps/qsad25nf' target=\"_blank\">https://wandb.ai/cs23m033_dl_assignment_1/DL_assignment_3/sweeps/qsad25nf</a>"
          },
          "metadata": {}
        },
        {
          "output_type": "display_data",
          "data": {
            "text/plain": "<IPython.core.display.HTML object>",
            "text/html": " View run at <a href='https://wandb.ai/cs23m033_dl_assignment_1/DL_assignment_3/runs/clgcn6ue' target=\"_blank\">https://wandb.ai/cs23m033_dl_assignment_1/DL_assignment_3/runs/clgcn6ue</a>"
          },
          "metadata": {}
        },
        {
          "name": "stdout",
          "text": "epoch:  1\n",
          "output_type": "stream"
        },
        {
          "name": "stderr",
          "text": "100%|██████████| 100/100 [00:20<00:00,  4.95it/s]\n",
          "output_type": "stream"
        },
        {
          "name": "stdout",
          "text": "total loss:  tensor(1.6448, device='cuda:0', grad_fn=<DivBackward0>)\ntrain accuracy:  0.0\nvalid accuracy:  0.0244140625\ntest accuracy:  0.0\nepoch:  2\n",
          "output_type": "stream"
        },
        {
          "name": "stderr",
          "text": "100%|██████████| 100/100 [00:20<00:00,  4.83it/s]\n",
          "output_type": "stream"
        },
        {
          "name": "stdout",
          "text": "total loss:  tensor(1.1534, device='cuda:0', grad_fn=<DivBackward0>)\ntrain accuracy:  0.505859375\nvalid accuracy:  1.85546875\ntest accuracy:  1.708984375\nepoch:  3\n",
          "output_type": "stream"
        },
        {
          "name": "stderr",
          "text": "100%|██████████| 100/100 [00:19<00:00,  5.01it/s]\n",
          "output_type": "stream"
        },
        {
          "name": "stdout",
          "text": "total loss:  tensor(0.7479, device='cuda:0', grad_fn=<DivBackward0>)\ntrain accuracy:  8.869140625\nvalid accuracy:  14.16015625\ntest accuracy:  12.6708984375\nepoch:  4\n",
          "output_type": "stream"
        },
        {
          "name": "stderr",
          "text": "100%|██████████| 100/100 [00:20<00:00,  4.94it/s]\n",
          "output_type": "stream"
        },
        {
          "name": "stdout",
          "text": "total loss:  tensor(0.3962, device='cuda:0', grad_fn=<DivBackward0>)\ntrain accuracy:  34.685546875\nvalid accuracy:  33.056640625\ntest accuracy:  30.2978515625\nepoch:  5\n",
          "output_type": "stream"
        },
        {
          "name": "stderr",
          "text": "100%|██████████| 100/100 [00:20<00:00,  4.95it/s]\n",
          "output_type": "stream"
        },
        {
          "name": "stdout",
          "text": "total loss:  tensor(0.2245, device='cuda:0', grad_fn=<DivBackward0>)\ntrain accuracy:  49.529296875\nvalid accuracy:  43.7255859375\ntest accuracy:  39.2822265625\nepoch:  6\n",
          "output_type": "stream"
        },
        {
          "name": "stderr",
          "text": "100%|██████████| 100/100 [00:20<00:00,  4.96it/s]\n",
          "output_type": "stream"
        },
        {
          "name": "stdout",
          "text": "total loss:  tensor(0.1746, device='cuda:0', grad_fn=<DivBackward0>)\ntrain accuracy:  57.04296875\nvalid accuracy:  47.5341796875\ntest accuracy:  42.7734375\nepoch:  7\n",
          "output_type": "stream"
        },
        {
          "name": "stderr",
          "text": "100%|██████████| 100/100 [00:20<00:00,  4.95it/s]\n",
          "output_type": "stream"
        },
        {
          "name": "stdout",
          "text": "total loss:  tensor(0.1461, device='cuda:0', grad_fn=<DivBackward0>)\ntrain accuracy:  60.60546875\nvalid accuracy:  50.1953125\ntest accuracy:  44.7021484375\nepoch:  8\n",
          "output_type": "stream"
        },
        {
          "name": "stderr",
          "text": "100%|██████████| 100/100 [00:20<00:00,  4.96it/s]\n",
          "output_type": "stream"
        },
        {
          "name": "stdout",
          "text": "total loss:  tensor(0.1212, device='cuda:0', grad_fn=<DivBackward0>)\ntrain accuracy:  62.21484375\nvalid accuracy:  50.3173828125\ntest accuracy:  44.6533203125\nepoch:  9\n",
          "output_type": "stream"
        },
        {
          "name": "stderr",
          "text": "100%|██████████| 100/100 [00:20<00:00,  4.96it/s]\n",
          "output_type": "stream"
        },
        {
          "name": "stdout",
          "text": "total loss:  tensor(0.1101, device='cuda:0', grad_fn=<DivBackward0>)\ntrain accuracy:  66.806640625\nvalid accuracy:  51.5625\ntest accuracy:  46.240234375\nepoch:  10\n",
          "output_type": "stream"
        },
        {
          "name": "stderr",
          "text": "100%|██████████| 100/100 [00:20<00:00,  4.96it/s]\n",
          "output_type": "stream"
        },
        {
          "name": "stdout",
          "text": "total loss:  tensor(0.0979, device='cuda:0', grad_fn=<DivBackward0>)\ntrain accuracy:  69.578125\nvalid accuracy:  51.904296875\ntest accuracy:  47.5830078125\nepoch:  11\n",
          "output_type": "stream"
        },
        {
          "name": "stderr",
          "text": "100%|██████████| 100/100 [00:20<00:00,  4.95it/s]\n",
          "output_type": "stream"
        },
        {
          "name": "stdout",
          "text": "total loss:  tensor(0.0863, device='cuda:0', grad_fn=<DivBackward0>)\ntrain accuracy:  73.640625\nvalid accuracy:  54.443359375\ntest accuracy:  49.3896484375\nepoch:  12\n",
          "output_type": "stream"
        },
        {
          "name": "stderr",
          "text": "100%|██████████| 100/100 [00:20<00:00,  4.95it/s]\n",
          "output_type": "stream"
        },
        {
          "name": "stdout",
          "text": "total loss:  tensor(0.0761, device='cuda:0', grad_fn=<DivBackward0>)\ntrain accuracy:  73.3359375\nvalid accuracy:  51.7822265625\ntest accuracy:  47.119140625\nepoch:  13\n",
          "output_type": "stream"
        },
        {
          "name": "stderr",
          "text": "100%|██████████| 100/100 [00:20<00:00,  4.96it/s]\n",
          "output_type": "stream"
        },
        {
          "name": "stdout",
          "text": "total loss:  tensor(0.0749, device='cuda:0', grad_fn=<DivBackward0>)\ntrain accuracy:  74.564453125\nvalid accuracy:  54.2236328125\ntest accuracy:  49.169921875\nepoch:  14\n",
          "output_type": "stream"
        },
        {
          "name": "stderr",
          "text": "100%|██████████| 100/100 [00:20<00:00,  4.95it/s]\n",
          "output_type": "stream"
        },
        {
          "name": "stdout",
          "text": "total loss:  tensor(0.0676, device='cuda:0', grad_fn=<DivBackward0>)\ntrain accuracy:  76.646484375\nvalid accuracy:  54.1015625\ntest accuracy:  49.2919921875\nepoch:  15\n",
          "output_type": "stream"
        },
        {
          "name": "stderr",
          "text": "100%|██████████| 100/100 [00:20<00:00,  4.94it/s]\n",
          "output_type": "stream"
        },
        {
          "name": "stdout",
          "text": "total loss:  tensor(0.0569, device='cuda:0', grad_fn=<DivBackward0>)\ntrain accuracy:  80.1171875\nvalid accuracy:  57.1044921875\ntest accuracy:  51.7822265625\nepoch:  16\n",
          "output_type": "stream"
        },
        {
          "name": "stderr",
          "text": "100%|██████████| 100/100 [00:20<00:00,  4.96it/s]\n",
          "output_type": "stream"
        },
        {
          "name": "stdout",
          "text": "total loss:  tensor(0.0545, device='cuda:0', grad_fn=<DivBackward0>)\ntrain accuracy:  81.970703125\nvalid accuracy:  57.666015625\ntest accuracy:  52.587890625\nepoch:  17\n",
          "output_type": "stream"
        },
        {
          "name": "stderr",
          "text": "100%|██████████| 100/100 [00:20<00:00,  4.96it/s]\n",
          "output_type": "stream"
        },
        {
          "name": "stdout",
          "text": "total loss:  tensor(0.0468, device='cuda:0', grad_fn=<DivBackward0>)\ntrain accuracy:  84.5625\nvalid accuracy:  56.8115234375\ntest accuracy:  51.3427734375\nepoch:  18\n",
          "output_type": "stream"
        },
        {
          "name": "stderr",
          "text": "100%|██████████| 100/100 [00:20<00:00,  4.96it/s]\n",
          "output_type": "stream"
        },
        {
          "name": "stdout",
          "text": "total loss:  tensor(0.0499, device='cuda:0', grad_fn=<DivBackward0>)\ntrain accuracy:  84.359375\nvalid accuracy:  56.005859375\ntest accuracy:  51.0009765625\nepoch:  19\n",
          "output_type": "stream"
        },
        {
          "name": "stderr",
          "text": "100%|██████████| 100/100 [00:20<00:00,  4.95it/s]\n",
          "output_type": "stream"
        },
        {
          "name": "stdout",
          "text": "total loss:  tensor(0.0365, device='cuda:0', grad_fn=<DivBackward0>)\ntrain accuracy:  88.146484375\nvalid accuracy:  57.0068359375\ntest accuracy:  51.708984375\nepoch:  20\n",
          "output_type": "stream"
        },
        {
          "name": "stderr",
          "text": "100%|██████████| 100/100 [00:20<00:00,  4.95it/s]\n",
          "output_type": "stream"
        },
        {
          "name": "stdout",
          "text": "total loss:  tensor(0.0292, device='cuda:0', grad_fn=<DivBackward0>)\ntrain accuracy:  88.443359375\nvalid accuracy:  56.8115234375\ntest accuracy:  51.708984375\nepoch:  21\n",
          "output_type": "stream"
        },
        {
          "name": "stderr",
          "text": "100%|██████████| 100/100 [00:20<00:00,  4.96it/s]\n",
          "output_type": "stream"
        },
        {
          "name": "stdout",
          "text": "total loss:  tensor(0.0255, device='cuda:0', grad_fn=<DivBackward0>)\ntrain accuracy:  90.439453125\nvalid accuracy:  57.32421875\ntest accuracy:  52.9296875\nepoch:  22\n",
          "output_type": "stream"
        },
        {
          "name": "stderr",
          "text": "100%|██████████| 100/100 [00:20<00:00,  4.96it/s]\n",
          "output_type": "stream"
        },
        {
          "name": "stdout",
          "text": "total loss:  tensor(0.0229, device='cuda:0', grad_fn=<DivBackward0>)\ntrain accuracy:  85.57421875\nvalid accuracy:  53.3203125\ntest accuracy:  49.0478515625\nepoch:  23\n",
          "output_type": "stream"
        },
        {
          "name": "stderr",
          "text": "100%|██████████| 100/100 [00:20<00:00,  4.95it/s]\n",
          "output_type": "stream"
        },
        {
          "name": "stdout",
          "text": "total loss:  tensor(0.0229, device='cuda:0', grad_fn=<DivBackward0>)\ntrain accuracy:  88.86328125\nvalid accuracy:  56.0302734375\ntest accuracy:  50.7568359375\nepoch:  24\n",
          "output_type": "stream"
        },
        {
          "name": "stderr",
          "text": "100%|██████████| 100/100 [00:20<00:00,  4.96it/s]\n",
          "output_type": "stream"
        },
        {
          "name": "stdout",
          "text": "total loss:  tensor(0.0217, device='cuda:0', grad_fn=<DivBackward0>)\ntrain accuracy:  91.001953125\nvalid accuracy:  57.03125\ntest accuracy:  51.0498046875\nepoch:  25\n",
          "output_type": "stream"
        },
        {
          "name": "stderr",
          "text": "100%|██████████| 100/100 [00:20<00:00,  4.96it/s]\n",
          "output_type": "stream"
        },
        {
          "name": "stdout",
          "text": "total loss:  tensor(0.0247, device='cuda:0', grad_fn=<DivBackward0>)\ntrain accuracy:  90.4609375\nvalid accuracy:  56.005859375\ntest accuracy:  51.318359375\nepoch:  26\n",
          "output_type": "stream"
        },
        {
          "name": "stderr",
          "text": "100%|██████████| 100/100 [00:20<00:00,  4.95it/s]\n",
          "output_type": "stream"
        },
        {
          "name": "stdout",
          "text": "total loss:  tensor(0.0238, device='cuda:0', grad_fn=<DivBackward0>)\ntrain accuracy:  89.94140625\nvalid accuracy:  53.80859375\ntest accuracy:  49.560546875\nepoch:  27\n",
          "output_type": "stream"
        },
        {
          "name": "stderr",
          "text": "100%|██████████| 100/100 [00:20<00:00,  4.96it/s]\n",
          "output_type": "stream"
        },
        {
          "name": "stdout",
          "text": "total loss:  tensor(0.0234, device='cuda:0', grad_fn=<DivBackward0>)\ntrain accuracy:  91.162109375\nvalid accuracy:  55.810546875\ntest accuracy:  50.78125\nepoch:  28\n",
          "output_type": "stream"
        },
        {
          "name": "stderr",
          "text": "100%|██████████| 100/100 [00:20<00:00,  4.95it/s]\n",
          "output_type": "stream"
        },
        {
          "name": "stdout",
          "text": "total loss:  tensor(0.0264, device='cuda:0', grad_fn=<DivBackward0>)\ntrain accuracy:  89.91015625\nvalid accuracy:  56.54296875\ntest accuracy:  51.1962890625\nepoch:  29\n",
          "output_type": "stream"
        },
        {
          "name": "stderr",
          "text": "100%|██████████| 100/100 [00:20<00:00,  4.96it/s]\n",
          "output_type": "stream"
        },
        {
          "name": "stdout",
          "text": "total loss:  tensor(0.0239, device='cuda:0', grad_fn=<DivBackward0>)\ntrain accuracy:  91.16796875\nvalid accuracy:  56.884765625\ntest accuracy:  51.07421875\nepoch:  30\n",
          "output_type": "stream"
        },
        {
          "name": "stderr",
          "text": "100%|██████████| 100/100 [00:20<00:00,  4.96it/s]\n",
          "output_type": "stream"
        },
        {
          "name": "stdout",
          "text": "total loss:  tensor(0.0201, device='cuda:0', grad_fn=<DivBackward0>)\ntrain accuracy:  93.478515625\nvalid accuracy:  56.6650390625\ntest accuracy:  52.63671875\n",
          "output_type": "stream"
        },
        {
          "output_type": "display_data",
          "data": {
            "text/plain": "VBox(children=(Label(value='0.001 MB of 0.001 MB uploaded\\r'), FloatProgress(value=1.0, max=1.0)))",
            "application/vnd.jupyter.widget-view+json": {
              "version_major": 2,
              "version_minor": 0,
              "model_id": ""
            }
          },
          "metadata": {}
        },
        {
          "output_type": "display_data",
          "data": {
            "text/plain": "<IPython.core.display.HTML object>",
            "text/html": "<style>\n    table.wandb td:nth-child(1) { padding: 0 10px; text-align: left ; width: auto;} td:nth-child(2) {text-align: left ; width: 100%}\n    .wandb-row { display: flex; flex-direction: row; flex-wrap: wrap; justify-content: flex-start; width: 100% }\n    .wandb-col { display: flex; flex-direction: column; flex-basis: 100%; flex: 1; padding: 10px; }\n    </style>\n<div class=\"wandb-row\"><div class=\"wandb-col\"><h3>Run history:</h3><br/><table class=\"wandb\"><tr><td>test accuracy_attn</td><td>▁▁▃▅▆▇▇▇▇▇█▇█████████▇████████</td></tr></table><br/></div><div class=\"wandb-col\"><h3>Run summary:</h3><br/><table class=\"wandb\"><tr><td>test accuracy_attn</td><td>52.63672</td></tr></table><br/></div></div>"
          },
          "metadata": {}
        },
        {
          "output_type": "display_data",
          "data": {
            "text/plain": "<IPython.core.display.HTML object>",
            "text/html": " View run <strong style=\"color:#cdcd00\">bi_bitTruecell_typeGRUatn_bitTrueenc_lay3dec_lay3</strong> at: <a href='https://wandb.ai/cs23m033_dl_assignment_1/DL_assignment_3/runs/clgcn6ue' target=\"_blank\">https://wandb.ai/cs23m033_dl_assignment_1/DL_assignment_3/runs/clgcn6ue</a><br/> View project at: <a href='https://wandb.ai/cs23m033_dl_assignment_1/DL_assignment_3' target=\"_blank\">https://wandb.ai/cs23m033_dl_assignment_1/DL_assignment_3</a><br/>Synced 5 W&B file(s), 0 media file(s), 0 artifact file(s) and 0 other file(s)"
          },
          "metadata": {}
        },
        {
          "output_type": "display_data",
          "data": {
            "text/plain": "<IPython.core.display.HTML object>",
            "text/html": "Find logs at: <code>./wandb/run-20240517_061347-clgcn6ue/logs</code>"
          },
          "metadata": {}
        },
        {
          "name": "stderr",
          "text": "\u001b[34m\u001b[1mwandb\u001b[0m: Agent Starting Run: qtpkrcvy with config:\n\u001b[34m\u001b[1mwandb\u001b[0m: \tattention_bit: True\n\u001b[34m\u001b[1mwandb\u001b[0m: \tbatch_size: 512\n\u001b[34m\u001b[1mwandb\u001b[0m: \tbi_directional_bit: True\n\u001b[34m\u001b[1mwandb\u001b[0m: \tcell_type: GRU\n\u001b[34m\u001b[1mwandb\u001b[0m: \tdec_dropout: 0\n\u001b[34m\u001b[1mwandb\u001b[0m: \tdec_layers: 3\n\u001b[34m\u001b[1mwandb\u001b[0m: \tembedding_size: 512\n\u001b[34m\u001b[1mwandb\u001b[0m: \tenc_dropout: 0\n\u001b[34m\u001b[1mwandb\u001b[0m: \tenc_layers: 3\n\u001b[34m\u001b[1mwandb\u001b[0m: \thidden_size: 256\n\u001b[34m\u001b[1mwandb\u001b[0m: \tlearning_rate: 0.001\n\u001b[34m\u001b[1mwandb\u001b[0m: \tmax_epochs: 30\n\u001b[34m\u001b[1mwandb\u001b[0m: \u001b[33mWARNING\u001b[0m Ignored wandb.init() arg project when running a sweep.\n",
          "output_type": "stream"
        },
        {
          "output_type": "display_data",
          "data": {
            "text/plain": "<IPython.core.display.HTML object>",
            "text/html": "wandb version 0.17.0 is available!  To upgrade, please run:\n $ pip install wandb --upgrade"
          },
          "metadata": {}
        },
        {
          "output_type": "display_data",
          "data": {
            "text/plain": "<IPython.core.display.HTML object>",
            "text/html": "Tracking run with wandb version 0.16.6"
          },
          "metadata": {}
        },
        {
          "output_type": "display_data",
          "data": {
            "text/plain": "<IPython.core.display.HTML object>",
            "text/html": "Run data is saved locally in <code>/kaggle/working/wandb/run-20240517_062902-qtpkrcvy</code>"
          },
          "metadata": {}
        },
        {
          "output_type": "display_data",
          "data": {
            "text/plain": "<IPython.core.display.HTML object>",
            "text/html": "Syncing run <strong><a href='https://wandb.ai/cs23m033_dl_assignment_1/DL_assignment_3/runs/qtpkrcvy' target=\"_blank\">bright-sweep-3</a></strong> to <a href='https://wandb.ai/cs23m033_dl_assignment_1/DL_assignment_3' target=\"_blank\">Weights & Biases</a> (<a href='https://wandb.me/run' target=\"_blank\">docs</a>)<br/>Sweep page: <a href='https://wandb.ai/cs23m033_dl_assignment_1/DL_assignment_3/sweeps/qsad25nf' target=\"_blank\">https://wandb.ai/cs23m033_dl_assignment_1/DL_assignment_3/sweeps/qsad25nf</a>"
          },
          "metadata": {}
        },
        {
          "output_type": "display_data",
          "data": {
            "text/plain": "<IPython.core.display.HTML object>",
            "text/html": " View project at <a href='https://wandb.ai/cs23m033_dl_assignment_1/DL_assignment_3' target=\"_blank\">https://wandb.ai/cs23m033_dl_assignment_1/DL_assignment_3</a>"
          },
          "metadata": {}
        },
        {
          "output_type": "display_data",
          "data": {
            "text/plain": "<IPython.core.display.HTML object>",
            "text/html": " View sweep at <a href='https://wandb.ai/cs23m033_dl_assignment_1/DL_assignment_3/sweeps/qsad25nf' target=\"_blank\">https://wandb.ai/cs23m033_dl_assignment_1/DL_assignment_3/sweeps/qsad25nf</a>"
          },
          "metadata": {}
        },
        {
          "output_type": "display_data",
          "data": {
            "text/plain": "<IPython.core.display.HTML object>",
            "text/html": " View run at <a href='https://wandb.ai/cs23m033_dl_assignment_1/DL_assignment_3/runs/qtpkrcvy' target=\"_blank\">https://wandb.ai/cs23m033_dl_assignment_1/DL_assignment_3/runs/qtpkrcvy</a>"
          },
          "metadata": {}
        },
        {
          "name": "stderr",
          "text": "\u001b[34m\u001b[1mwandb\u001b[0m: \u001b[33mWARNING\u001b[0m Ignored wandb.init() arg project when running a sweep.\n",
          "output_type": "stream"
        },
        {
          "output_type": "display_data",
          "data": {
            "text/plain": "<IPython.core.display.HTML object>",
            "text/html": "Finishing last run (ID:qtpkrcvy) before initializing another..."
          },
          "metadata": {}
        },
        {
          "output_type": "display_data",
          "data": {
            "text/plain": "VBox(children=(Label(value='0.001 MB of 0.001 MB uploaded\\r'), FloatProgress(value=1.0, max=1.0)))",
            "application/vnd.jupyter.widget-view+json": {
              "version_major": 2,
              "version_minor": 0,
              "model_id": ""
            }
          },
          "metadata": {}
        },
        {
          "output_type": "display_data",
          "data": {
            "text/plain": "<IPython.core.display.HTML object>",
            "text/html": " View run <strong style=\"color:#cdcd00\">bright-sweep-3</strong> at: <a href='https://wandb.ai/cs23m033_dl_assignment_1/DL_assignment_3/runs/qtpkrcvy' target=\"_blank\">https://wandb.ai/cs23m033_dl_assignment_1/DL_assignment_3/runs/qtpkrcvy</a><br/> View project at: <a href='https://wandb.ai/cs23m033_dl_assignment_1/DL_assignment_3' target=\"_blank\">https://wandb.ai/cs23m033_dl_assignment_1/DL_assignment_3</a><br/>Synced 5 W&B file(s), 0 media file(s), 0 artifact file(s) and 0 other file(s)"
          },
          "metadata": {}
        },
        {
          "output_type": "display_data",
          "data": {
            "text/plain": "<IPython.core.display.HTML object>",
            "text/html": "Find logs at: <code>./wandb/run-20240517_062902-qtpkrcvy/logs</code>"
          },
          "metadata": {}
        },
        {
          "output_type": "display_data",
          "data": {
            "text/plain": "<IPython.core.display.HTML object>",
            "text/html": "Successfully finished last run (ID:qtpkrcvy). Initializing new run:<br/>"
          },
          "metadata": {}
        },
        {
          "output_type": "display_data",
          "data": {
            "text/plain": "<IPython.core.display.HTML object>",
            "text/html": "wandb version 0.17.0 is available!  To upgrade, please run:\n $ pip install wandb --upgrade"
          },
          "metadata": {}
        },
        {
          "output_type": "display_data",
          "data": {
            "text/plain": "<IPython.core.display.HTML object>",
            "text/html": "Tracking run with wandb version 0.16.6"
          },
          "metadata": {}
        },
        {
          "output_type": "display_data",
          "data": {
            "text/plain": "<IPython.core.display.HTML object>",
            "text/html": "Run data is saved locally in <code>/kaggle/working/wandb/run-20240517_062919-qtpkrcvy</code>"
          },
          "metadata": {}
        },
        {
          "output_type": "display_data",
          "data": {
            "text/plain": "<IPython.core.display.HTML object>",
            "text/html": "Syncing run <strong><a href='https://wandb.ai/cs23m033_dl_assignment_1/DL_assignment_3/runs/qtpkrcvy' target=\"_blank\">bi_bitTruecell_typeGRUatn_bitTrueenc_lay3dec_lay3</a></strong> to <a href='https://wandb.ai/cs23m033_dl_assignment_1/DL_assignment_3' target=\"_blank\">Weights & Biases</a> (<a href='https://wandb.me/run' target=\"_blank\">docs</a>)<br/>Sweep page: <a href='https://wandb.ai/cs23m033_dl_assignment_1/DL_assignment_3/sweeps/qsad25nf' target=\"_blank\">https://wandb.ai/cs23m033_dl_assignment_1/DL_assignment_3/sweeps/qsad25nf</a>"
          },
          "metadata": {}
        },
        {
          "output_type": "display_data",
          "data": {
            "text/plain": "<IPython.core.display.HTML object>",
            "text/html": " View project at <a href='https://wandb.ai/cs23m033_dl_assignment_1/DL_assignment_3' target=\"_blank\">https://wandb.ai/cs23m033_dl_assignment_1/DL_assignment_3</a>"
          },
          "metadata": {}
        },
        {
          "output_type": "display_data",
          "data": {
            "text/plain": "<IPython.core.display.HTML object>",
            "text/html": " View sweep at <a href='https://wandb.ai/cs23m033_dl_assignment_1/DL_assignment_3/sweeps/qsad25nf' target=\"_blank\">https://wandb.ai/cs23m033_dl_assignment_1/DL_assignment_3/sweeps/qsad25nf</a>"
          },
          "metadata": {}
        },
        {
          "output_type": "display_data",
          "data": {
            "text/plain": "<IPython.core.display.HTML object>",
            "text/html": " View run at <a href='https://wandb.ai/cs23m033_dl_assignment_1/DL_assignment_3/runs/qtpkrcvy' target=\"_blank\">https://wandb.ai/cs23m033_dl_assignment_1/DL_assignment_3/runs/qtpkrcvy</a>"
          },
          "metadata": {}
        },
        {
          "name": "stdout",
          "text": "epoch:  1\n",
          "output_type": "stream"
        },
        {
          "name": "stderr",
          "text": "100%|██████████| 100/100 [00:20<00:00,  4.94it/s]\n",
          "output_type": "stream"
        },
        {
          "name": "stdout",
          "text": "total loss:  tensor(1.6501, device='cuda:0', grad_fn=<DivBackward0>)\ntrain accuracy:  0.0\nvalid accuracy:  0.0244140625\ntest accuracy:  0.0\nepoch:  2\n",
          "output_type": "stream"
        },
        {
          "name": "stderr",
          "text": "100%|██████████| 100/100 [00:20<00:00,  4.83it/s]\n",
          "output_type": "stream"
        },
        {
          "name": "stdout",
          "text": "total loss:  tensor(1.1008, device='cuda:0', grad_fn=<DivBackward0>)\ntrain accuracy:  0.998046875\nvalid accuracy:  2.978515625\ntest accuracy:  2.880859375\nepoch:  3\n",
          "output_type": "stream"
        },
        {
          "name": "stderr",
          "text": "100%|██████████| 100/100 [00:19<00:00,  5.02it/s]\n",
          "output_type": "stream"
        },
        {
          "name": "stdout",
          "text": "total loss:  tensor(0.7147, device='cuda:0', grad_fn=<DivBackward0>)\ntrain accuracy:  8.728515625\nvalid accuracy:  14.8681640625\ntest accuracy:  13.8427734375\nepoch:  4\n",
          "output_type": "stream"
        },
        {
          "name": "stderr",
          "text": "100%|██████████| 100/100 [00:20<00:00,  4.93it/s]\n",
          "output_type": "stream"
        },
        {
          "name": "stdout",
          "text": "total loss:  tensor(0.4297, device='cuda:0', grad_fn=<DivBackward0>)\ntrain accuracy:  28.0859375\nvalid accuracy:  29.0283203125\ntest accuracy:  27.0263671875\nepoch:  5\n",
          "output_type": "stream"
        },
        {
          "name": "stderr",
          "text": "100%|██████████| 100/100 [00:20<00:00,  4.94it/s]\n",
          "output_type": "stream"
        },
        {
          "name": "stdout",
          "text": "total loss:  tensor(0.2772, device='cuda:0', grad_fn=<DivBackward0>)\ntrain accuracy:  42.208984375\nvalid accuracy:  39.7216796875\ntest accuracy:  36.42578125\nepoch:  6\n",
          "output_type": "stream"
        },
        {
          "name": "stderr",
          "text": "100%|██████████| 100/100 [00:20<00:00,  4.96it/s]\n",
          "output_type": "stream"
        },
        {
          "name": "stdout",
          "text": "total loss:  tensor(0.2106, device='cuda:0', grad_fn=<DivBackward0>)\ntrain accuracy:  50.70703125\nvalid accuracy:  43.7255859375\ntest accuracy:  39.3798828125\nepoch:  7\n",
          "output_type": "stream"
        },
        {
          "name": "stderr",
          "text": "100%|██████████| 100/100 [00:20<00:00,  4.95it/s]\n",
          "output_type": "stream"
        },
        {
          "name": "stdout",
          "text": "total loss:  tensor(0.1735, device='cuda:0', grad_fn=<DivBackward0>)\ntrain accuracy:  57.654296875\nvalid accuracy:  48.0224609375\ntest accuracy:  42.7490234375\nepoch:  8\n",
          "output_type": "stream"
        },
        {
          "name": "stderr",
          "text": "100%|██████████| 100/100 [00:20<00:00,  4.95it/s]\n",
          "output_type": "stream"
        },
        {
          "name": "stdout",
          "text": "total loss:  tensor(0.1423, device='cuda:0', grad_fn=<DivBackward0>)\ntrain accuracy:  61.65625\nvalid accuracy:  49.560546875\ntest accuracy:  44.82421875\nepoch:  9\n",
          "output_type": "stream"
        },
        {
          "name": "stderr",
          "text": "100%|██████████| 100/100 [00:20<00:00,  4.96it/s]\n",
          "output_type": "stream"
        },
        {
          "name": "stdout",
          "text": "total loss:  tensor(0.1236, device='cuda:0', grad_fn=<DivBackward0>)\ntrain accuracy:  66.134765625\nvalid accuracy:  51.07421875\ntest accuracy:  47.2412109375\nepoch:  10\n",
          "output_type": "stream"
        },
        {
          "name": "stderr",
          "text": "100%|██████████| 100/100 [00:20<00:00,  4.94it/s]\n",
          "output_type": "stream"
        },
        {
          "name": "stdout",
          "text": "total loss:  tensor(0.1075, device='cuda:0', grad_fn=<DivBackward0>)\ntrain accuracy:  64.029296875\nvalid accuracy:  47.8515625\ntest accuracy:  44.970703125\nepoch:  11\n",
          "output_type": "stream"
        },
        {
          "name": "stderr",
          "text": "100%|██████████| 100/100 [00:20<00:00,  4.96it/s]\n",
          "output_type": "stream"
        },
        {
          "name": "stdout",
          "text": "total loss:  tensor(0.1019, device='cuda:0', grad_fn=<DivBackward0>)\ntrain accuracy:  69.923828125\nvalid accuracy:  52.001953125\ntest accuracy:  48.1689453125\nepoch:  12\n",
          "output_type": "stream"
        },
        {
          "name": "stderr",
          "text": "100%|██████████| 100/100 [00:20<00:00,  4.96it/s]\n",
          "output_type": "stream"
        },
        {
          "name": "stdout",
          "text": "total loss:  tensor(0.0847, device='cuda:0', grad_fn=<DivBackward0>)\ntrain accuracy:  73.064453125\nvalid accuracy:  53.0029296875\ntest accuracy:  49.1455078125\nepoch:  13\n",
          "output_type": "stream"
        },
        {
          "name": "stderr",
          "text": "100%|██████████| 100/100 [00:20<00:00,  4.96it/s]\n",
          "output_type": "stream"
        },
        {
          "name": "stdout",
          "text": "total loss:  tensor(0.0879, device='cuda:0', grad_fn=<DivBackward0>)\ntrain accuracy:  75.755859375\nvalid accuracy:  53.173828125\ntest accuracy:  49.1455078125\nepoch:  14\n",
          "output_type": "stream"
        },
        {
          "name": "stderr",
          "text": "100%|██████████| 100/100 [00:20<00:00,  4.96it/s]\n",
          "output_type": "stream"
        },
        {
          "name": "stdout",
          "text": "total loss:  tensor(0.0707, device='cuda:0', grad_fn=<DivBackward0>)\ntrain accuracy:  73.11328125\nvalid accuracy:  50.6103515625\ntest accuracy:  47.2412109375\nepoch:  15\n",
          "output_type": "stream"
        },
        {
          "name": "stderr",
          "text": "100%|██████████| 100/100 [00:20<00:00,  4.96it/s]\n",
          "output_type": "stream"
        },
        {
          "name": "stdout",
          "text": "total loss:  tensor(0.0628, device='cuda:0', grad_fn=<DivBackward0>)\ntrain accuracy:  77.25\nvalid accuracy:  53.2958984375\ntest accuracy:  50.0732421875\nepoch:  16\n",
          "output_type": "stream"
        },
        {
          "name": "stderr",
          "text": "100%|██████████| 100/100 [00:20<00:00,  4.96it/s]\n",
          "output_type": "stream"
        },
        {
          "name": "stdout",
          "text": "total loss:  tensor(0.0593, device='cuda:0', grad_fn=<DivBackward0>)\ntrain accuracy:  80.537109375\nvalid accuracy:  54.443359375\ntest accuracy:  50.7080078125\nepoch:  17\n",
          "output_type": "stream"
        },
        {
          "name": "stderr",
          "text": "100%|██████████| 100/100 [00:20<00:00,  4.95it/s]\n",
          "output_type": "stream"
        },
        {
          "name": "stdout",
          "text": "total loss:  tensor(0.0530, device='cuda:0', grad_fn=<DivBackward0>)\ntrain accuracy:  82.03125\nvalid accuracy:  54.2724609375\ntest accuracy:  50.4638671875\nepoch:  18\n",
          "output_type": "stream"
        },
        {
          "name": "stderr",
          "text": "100%|██████████| 100/100 [00:20<00:00,  4.93it/s]\n",
          "output_type": "stream"
        },
        {
          "name": "stdout",
          "text": "total loss:  tensor(0.0460, device='cuda:0', grad_fn=<DivBackward0>)\ntrain accuracy:  84.677734375\nvalid accuracy:  53.80859375\ntest accuracy:  48.7548828125\nepoch:  19\n",
          "output_type": "stream"
        },
        {
          "name": "stderr",
          "text": "100%|██████████| 100/100 [00:20<00:00,  4.95it/s]\n",
          "output_type": "stream"
        },
        {
          "name": "stdout",
          "text": "total loss:  tensor(0.0414, device='cuda:0', grad_fn=<DivBackward0>)\ntrain accuracy:  85.15234375\nvalid accuracy:  53.3935546875\ntest accuracy:  49.1455078125\nepoch:  20\n",
          "output_type": "stream"
        },
        {
          "name": "stderr",
          "text": "100%|██████████| 100/100 [00:20<00:00,  4.96it/s]\n",
          "output_type": "stream"
        },
        {
          "name": "stdout",
          "text": "total loss:  tensor(0.0412, device='cuda:0', grad_fn=<DivBackward0>)\ntrain accuracy:  81.076171875\nvalid accuracy:  50.5859375\ntest accuracy:  46.2890625\nepoch:  21\n",
          "output_type": "stream"
        },
        {
          "name": "stderr",
          "text": "100%|██████████| 100/100 [00:20<00:00,  4.96it/s]\n",
          "output_type": "stream"
        },
        {
          "name": "stdout",
          "text": "total loss:  tensor(0.0379, device='cuda:0', grad_fn=<DivBackward0>)\ntrain accuracy:  84.806640625\nvalid accuracy:  53.466796875\ntest accuracy:  48.92578125\nepoch:  22\n",
          "output_type": "stream"
        },
        {
          "name": "stderr",
          "text": "100%|██████████| 100/100 [00:20<00:00,  4.96it/s]\n",
          "output_type": "stream"
        },
        {
          "name": "stdout",
          "text": "total loss:  tensor(0.0353, device='cuda:0', grad_fn=<DivBackward0>)\ntrain accuracy:  87.99609375\nvalid accuracy:  55.029296875\ntest accuracy:  50.78125\nepoch:  23\n",
          "output_type": "stream"
        },
        {
          "name": "stderr",
          "text": "100%|██████████| 100/100 [00:20<00:00,  4.96it/s]\n",
          "output_type": "stream"
        },
        {
          "name": "stdout",
          "text": "total loss:  tensor(0.0331, device='cuda:0', grad_fn=<DivBackward0>)\ntrain accuracy:  89.22265625\nvalid accuracy:  55.37109375\ntest accuracy:  51.1474609375\nepoch:  24\n",
          "output_type": "stream"
        },
        {
          "name": "stderr",
          "text": "100%|██████████| 100/100 [00:20<00:00,  4.95it/s]\n",
          "output_type": "stream"
        },
        {
          "name": "stdout",
          "text": "total loss:  tensor(0.0292, device='cuda:0', grad_fn=<DivBackward0>)\ntrain accuracy:  89.67578125\nvalid accuracy:  55.46875\ntest accuracy:  50.9521484375\nepoch:  25\n",
          "output_type": "stream"
        },
        {
          "name": "stderr",
          "text": "100%|██████████| 100/100 [00:20<00:00,  4.95it/s]\n",
          "output_type": "stream"
        },
        {
          "name": "stdout",
          "text": "total loss:  tensor(0.0296, device='cuda:0', grad_fn=<DivBackward0>)\ntrain accuracy:  87.1171875\nvalid accuracy:  54.19921875\ntest accuracy:  50.244140625\nepoch:  26\n",
          "output_type": "stream"
        },
        {
          "name": "stderr",
          "text": "100%|██████████| 100/100 [00:20<00:00,  4.96it/s]\n",
          "output_type": "stream"
        },
        {
          "name": "stdout",
          "text": "total loss:  tensor(0.0275, device='cuda:0', grad_fn=<DivBackward0>)\ntrain accuracy:  84.275390625\nvalid accuracy:  53.9306640625\ntest accuracy:  49.2431640625\nepoch:  27\n",
          "output_type": "stream"
        },
        {
          "name": "stderr",
          "text": "100%|██████████| 100/100 [00:20<00:00,  4.96it/s]\n",
          "output_type": "stream"
        },
        {
          "name": "stdout",
          "text": "total loss:  tensor(0.0278, device='cuda:0', grad_fn=<DivBackward0>)\ntrain accuracy:  89.943359375\nvalid accuracy:  53.7841796875\ntest accuracy:  49.2919921875\nepoch:  28\n",
          "output_type": "stream"
        },
        {
          "name": "stderr",
          "text": "100%|██████████| 100/100 [00:20<00:00,  4.96it/s]\n",
          "output_type": "stream"
        },
        {
          "name": "stdout",
          "text": "total loss:  tensor(0.0222, device='cuda:0', grad_fn=<DivBackward0>)\ntrain accuracy:  94.83984375\nvalid accuracy:  56.982421875\ntest accuracy:  51.5380859375\nepoch:  29\n",
          "output_type": "stream"
        },
        {
          "name": "stderr",
          "text": "100%|██████████| 100/100 [00:20<00:00,  4.95it/s]\n",
          "output_type": "stream"
        },
        {
          "name": "stdout",
          "text": "total loss:  tensor(0.0174, device='cuda:0', grad_fn=<DivBackward0>)\ntrain accuracy:  95.17578125\nvalid accuracy:  56.494140625\ntest accuracy:  52.197265625\nepoch:  30\n",
          "output_type": "stream"
        },
        {
          "name": "stderr",
          "text": "100%|██████████| 100/100 [00:20<00:00,  4.95it/s]\n",
          "output_type": "stream"
        },
        {
          "name": "stdout",
          "text": "total loss:  tensor(0.0148, device='cuda:0', grad_fn=<DivBackward0>)\ntrain accuracy:  95.357421875\nvalid accuracy:  57.177734375\ntest accuracy:  52.1728515625\n",
          "output_type": "stream"
        },
        {
          "output_type": "display_data",
          "data": {
            "text/plain": "VBox(children=(Label(value='0.001 MB of 0.001 MB uploaded\\r'), FloatProgress(value=1.0, max=1.0)))",
            "application/vnd.jupyter.widget-view+json": {
              "version_major": 2,
              "version_minor": 0,
              "model_id": ""
            }
          },
          "metadata": {}
        },
        {
          "output_type": "display_data",
          "data": {
            "text/plain": "<IPython.core.display.HTML object>",
            "text/html": "<style>\n    table.wandb td:nth-child(1) { padding: 0 10px; text-align: left ; width: auto;} td:nth-child(2) {text-align: left ; width: 100%}\n    .wandb-row { display: flex; flex-direction: row; flex-wrap: wrap; justify-content: flex-start; width: 100% }\n    .wandb-col { display: flex; flex-direction: column; flex-basis: 100%; flex: 1; padding: 10px; }\n    </style>\n<div class=\"wandb-row\"><div class=\"wandb-col\"><h3>Run history:</h3><br/><table class=\"wandb\"><tr><td>test accuracy_attn</td><td>▁▁▃▅▆▆▇▇▇▇▇██▇█████▇██████████</td></tr></table><br/></div><div class=\"wandb-col\"><h3>Run summary:</h3><br/><table class=\"wandb\"><tr><td>test accuracy_attn</td><td>52.17285</td></tr></table><br/></div></div>"
          },
          "metadata": {}
        },
        {
          "output_type": "display_data",
          "data": {
            "text/plain": "<IPython.core.display.HTML object>",
            "text/html": " View run <strong style=\"color:#cdcd00\">bi_bitTruecell_typeGRUatn_bitTrueenc_lay3dec_lay3</strong> at: <a href='https://wandb.ai/cs23m033_dl_assignment_1/DL_assignment_3/runs/qtpkrcvy' target=\"_blank\">https://wandb.ai/cs23m033_dl_assignment_1/DL_assignment_3/runs/qtpkrcvy</a><br/> View project at: <a href='https://wandb.ai/cs23m033_dl_assignment_1/DL_assignment_3' target=\"_blank\">https://wandb.ai/cs23m033_dl_assignment_1/DL_assignment_3</a><br/>Synced 5 W&B file(s), 0 media file(s), 0 artifact file(s) and 0 other file(s)"
          },
          "metadata": {}
        },
        {
          "output_type": "display_data",
          "data": {
            "text/plain": "<IPython.core.display.HTML object>",
            "text/html": "Find logs at: <code>./wandb/run-20240517_062919-qtpkrcvy/logs</code>"
          },
          "metadata": {}
        },
        {
          "name": "stdout",
          "text": "Error in callback <bound method _WandbInit._pause_backend of <wandb.sdk.wandb_init._WandbInit object at 0x7ad5c7a635b0>> (for post_run_cell), with arguments args (<ExecutionResult object at 7ad5d908eaa0, execution_count=15 error_before_exec=None error_in_exec=None info=<ExecutionInfo object at 7ad5d908e7d0, raw_cell=\"!pip install wandb\nimport wandb\nfrom wandb.keras i..\" store_history=True silent=False shell_futures=True cell_id=509af279-4529-4f5e-90d9-c7430009d4c1> result=None>,),kwargs {}:\n",
          "output_type": "stream"
        },
        {
          "traceback": [
            "\u001b[0;31m---------------------------------------------------------------------------\u001b[0m",
            "\u001b[0;31mBrokenPipeError\u001b[0m                           Traceback (most recent call last)",
            "File \u001b[0;32m/opt/conda/lib/python3.10/site-packages/wandb/sdk/wandb_init.py:433\u001b[0m, in \u001b[0;36m_WandbInit._pause_backend\u001b[0;34m(self, *args, **kwargs)\u001b[0m\n\u001b[1;32m    431\u001b[0m \u001b[38;5;28;01mif\u001b[39;00m \u001b[38;5;28mself\u001b[39m\u001b[38;5;241m.\u001b[39mbackend\u001b[38;5;241m.\u001b[39minterface \u001b[38;5;129;01mis\u001b[39;00m \u001b[38;5;129;01mnot\u001b[39;00m \u001b[38;5;28;01mNone\u001b[39;00m:\n\u001b[1;32m    432\u001b[0m     logger\u001b[38;5;241m.\u001b[39minfo(\u001b[38;5;124m\"\u001b[39m\u001b[38;5;124mpausing backend\u001b[39m\u001b[38;5;124m\"\u001b[39m)  \u001b[38;5;66;03m# type: ignore\u001b[39;00m\n\u001b[0;32m--> 433\u001b[0m     \u001b[38;5;28;43mself\u001b[39;49m\u001b[38;5;241;43m.\u001b[39;49m\u001b[43mbackend\u001b[49m\u001b[38;5;241;43m.\u001b[39;49m\u001b[43minterface\u001b[49m\u001b[38;5;241;43m.\u001b[39;49m\u001b[43mpublish_pause\u001b[49m\u001b[43m(\u001b[49m\u001b[43m)\u001b[49m\n",
            "File \u001b[0;32m/opt/conda/lib/python3.10/site-packages/wandb/sdk/interface/interface.py:682\u001b[0m, in \u001b[0;36mInterfaceBase.publish_pause\u001b[0;34m(self)\u001b[0m\n\u001b[1;32m    680\u001b[0m \u001b[38;5;28;01mdef\u001b[39;00m \u001b[38;5;21mpublish_pause\u001b[39m(\u001b[38;5;28mself\u001b[39m) \u001b[38;5;241m-\u001b[39m\u001b[38;5;241m>\u001b[39m \u001b[38;5;28;01mNone\u001b[39;00m:\n\u001b[1;32m    681\u001b[0m     pause \u001b[38;5;241m=\u001b[39m pb\u001b[38;5;241m.\u001b[39mPauseRequest()\n\u001b[0;32m--> 682\u001b[0m     \u001b[38;5;28;43mself\u001b[39;49m\u001b[38;5;241;43m.\u001b[39;49m\u001b[43m_publish_pause\u001b[49m\u001b[43m(\u001b[49m\u001b[43mpause\u001b[49m\u001b[43m)\u001b[49m\n",
            "File \u001b[0;32m/opt/conda/lib/python3.10/site-packages/wandb/sdk/interface/interface_shared.py:357\u001b[0m, in \u001b[0;36mInterfaceShared._publish_pause\u001b[0;34m(self, pause)\u001b[0m\n\u001b[1;32m    355\u001b[0m \u001b[38;5;28;01mdef\u001b[39;00m \u001b[38;5;21m_publish_pause\u001b[39m(\u001b[38;5;28mself\u001b[39m, pause: pb\u001b[38;5;241m.\u001b[39mPauseRequest) \u001b[38;5;241m-\u001b[39m\u001b[38;5;241m>\u001b[39m \u001b[38;5;28;01mNone\u001b[39;00m:\n\u001b[1;32m    356\u001b[0m     rec \u001b[38;5;241m=\u001b[39m \u001b[38;5;28mself\u001b[39m\u001b[38;5;241m.\u001b[39m_make_request(pause\u001b[38;5;241m=\u001b[39mpause)\n\u001b[0;32m--> 357\u001b[0m     \u001b[38;5;28;43mself\u001b[39;49m\u001b[38;5;241;43m.\u001b[39;49m\u001b[43m_publish\u001b[49m\u001b[43m(\u001b[49m\u001b[43mrec\u001b[49m\u001b[43m)\u001b[49m\n",
            "File \u001b[0;32m/opt/conda/lib/python3.10/site-packages/wandb/sdk/interface/interface_sock.py:51\u001b[0m, in \u001b[0;36mInterfaceSock._publish\u001b[0;34m(self, record, local)\u001b[0m\n\u001b[1;32m     49\u001b[0m \u001b[38;5;28;01mdef\u001b[39;00m \u001b[38;5;21m_publish\u001b[39m(\u001b[38;5;28mself\u001b[39m, record: \u001b[38;5;124m\"\u001b[39m\u001b[38;5;124mpb.Record\u001b[39m\u001b[38;5;124m\"\u001b[39m, local: Optional[\u001b[38;5;28mbool\u001b[39m] \u001b[38;5;241m=\u001b[39m \u001b[38;5;28;01mNone\u001b[39;00m) \u001b[38;5;241m-\u001b[39m\u001b[38;5;241m>\u001b[39m \u001b[38;5;28;01mNone\u001b[39;00m:\n\u001b[1;32m     50\u001b[0m     \u001b[38;5;28mself\u001b[39m\u001b[38;5;241m.\u001b[39m_assign(record)\n\u001b[0;32m---> 51\u001b[0m     \u001b[38;5;28;43mself\u001b[39;49m\u001b[38;5;241;43m.\u001b[39;49m\u001b[43m_sock_client\u001b[49m\u001b[38;5;241;43m.\u001b[39;49m\u001b[43msend_record_publish\u001b[49m\u001b[43m(\u001b[49m\u001b[43mrecord\u001b[49m\u001b[43m)\u001b[49m\n",
            "File \u001b[0;32m/opt/conda/lib/python3.10/site-packages/wandb/sdk/lib/sock_client.py:221\u001b[0m, in \u001b[0;36mSockClient.send_record_publish\u001b[0;34m(self, record)\u001b[0m\n\u001b[1;32m    219\u001b[0m server_req \u001b[38;5;241m=\u001b[39m spb\u001b[38;5;241m.\u001b[39mServerRequest()\n\u001b[1;32m    220\u001b[0m server_req\u001b[38;5;241m.\u001b[39mrecord_publish\u001b[38;5;241m.\u001b[39mCopyFrom(record)\n\u001b[0;32m--> 221\u001b[0m \u001b[38;5;28;43mself\u001b[39;49m\u001b[38;5;241;43m.\u001b[39;49m\u001b[43msend_server_request\u001b[49m\u001b[43m(\u001b[49m\u001b[43mserver_req\u001b[49m\u001b[43m)\u001b[49m\n",
            "File \u001b[0;32m/opt/conda/lib/python3.10/site-packages/wandb/sdk/lib/sock_client.py:155\u001b[0m, in \u001b[0;36mSockClient.send_server_request\u001b[0;34m(self, msg)\u001b[0m\n\u001b[1;32m    154\u001b[0m \u001b[38;5;28;01mdef\u001b[39;00m \u001b[38;5;21msend_server_request\u001b[39m(\u001b[38;5;28mself\u001b[39m, msg: Any) \u001b[38;5;241m-\u001b[39m\u001b[38;5;241m>\u001b[39m \u001b[38;5;28;01mNone\u001b[39;00m:\n\u001b[0;32m--> 155\u001b[0m     \u001b[38;5;28;43mself\u001b[39;49m\u001b[38;5;241;43m.\u001b[39;49m\u001b[43m_send_message\u001b[49m\u001b[43m(\u001b[49m\u001b[43mmsg\u001b[49m\u001b[43m)\u001b[49m\n",
            "File \u001b[0;32m/opt/conda/lib/python3.10/site-packages/wandb/sdk/lib/sock_client.py:152\u001b[0m, in \u001b[0;36mSockClient._send_message\u001b[0;34m(self, msg)\u001b[0m\n\u001b[1;32m    150\u001b[0m header \u001b[38;5;241m=\u001b[39m struct\u001b[38;5;241m.\u001b[39mpack(\u001b[38;5;124m\"\u001b[39m\u001b[38;5;124m<BI\u001b[39m\u001b[38;5;124m\"\u001b[39m, \u001b[38;5;28mord\u001b[39m(\u001b[38;5;124m\"\u001b[39m\u001b[38;5;124mW\u001b[39m\u001b[38;5;124m\"\u001b[39m), raw_size)\n\u001b[1;32m    151\u001b[0m \u001b[38;5;28;01mwith\u001b[39;00m \u001b[38;5;28mself\u001b[39m\u001b[38;5;241m.\u001b[39m_lock:\n\u001b[0;32m--> 152\u001b[0m     \u001b[38;5;28;43mself\u001b[39;49m\u001b[38;5;241;43m.\u001b[39;49m\u001b[43m_sendall_with_error_handle\u001b[49m\u001b[43m(\u001b[49m\u001b[43mheader\u001b[49m\u001b[43m \u001b[49m\u001b[38;5;241;43m+\u001b[39;49m\u001b[43m \u001b[49m\u001b[43mdata\u001b[49m\u001b[43m)\u001b[49m\n",
            "File \u001b[0;32m/opt/conda/lib/python3.10/site-packages/wandb/sdk/lib/sock_client.py:130\u001b[0m, in \u001b[0;36mSockClient._sendall_with_error_handle\u001b[0;34m(self, data)\u001b[0m\n\u001b[1;32m    128\u001b[0m start_time \u001b[38;5;241m=\u001b[39m time\u001b[38;5;241m.\u001b[39mmonotonic()\n\u001b[1;32m    129\u001b[0m \u001b[38;5;28;01mtry\u001b[39;00m:\n\u001b[0;32m--> 130\u001b[0m     sent \u001b[38;5;241m=\u001b[39m \u001b[38;5;28;43mself\u001b[39;49m\u001b[38;5;241;43m.\u001b[39;49m\u001b[43m_sock\u001b[49m\u001b[38;5;241;43m.\u001b[39;49m\u001b[43msend\u001b[49m\u001b[43m(\u001b[49m\u001b[43mdata\u001b[49m\u001b[43m)\u001b[49m\n\u001b[1;32m    131\u001b[0m     \u001b[38;5;66;03m# sent equal to 0 indicates a closed socket\u001b[39;00m\n\u001b[1;32m    132\u001b[0m     \u001b[38;5;28;01mif\u001b[39;00m sent \u001b[38;5;241m==\u001b[39m \u001b[38;5;241m0\u001b[39m:\n",
            "\u001b[0;31mBrokenPipeError\u001b[0m: [Errno 32] Broken pipe"
          ],
          "ename": "BrokenPipeError",
          "evalue": "[Errno 32] Broken pipe",
          "output_type": "error"
        }
      ]
    },
    {
      "cell_type": "code",
      "source": [
        "bi_directional_bit=True\n",
        "enc_layers=3\n",
        "dec_layers=3\n",
        "batch_size=512\n",
        "embedding_size=256\n",
        "hidden_size=512\n",
        "enc_dropout=0\n",
        "dec_dropout=0\n",
        "max_epochs=10\n",
        "learning_rate=1e-3\n",
        "cell_type='GRU'\n",
        "attention_bit=True\n",
        "recurrent_neural_network(cell_type, bi_directional_bit, embedding_size, enc_dropout, dec_dropout, enc_layers, dec_layers, hidden_size, batch_size, attention_bit, learning_rate, max_epochs,attention_bit)"
      ],
      "metadata": {
        "execution": {
          "iopub.status.busy": "2024-05-15T08:41:18.694143Z",
          "iopub.execute_input": "2024-05-15T08:41:18.694509Z"
        },
        "trusted": true,
        "id": "fK4m96k8mhTg",
        "outputId": "30ae3327-7bbb-4b43-ffc0-e101ad17aff2"
      },
      "execution_count": null,
      "outputs": [
        {
          "name": "stdout",
          "text": "epoch:  1\n",
          "output_type": "stream"
        },
        {
          "name": "stderr",
          "text": "  0%|          | 0/100 [00:00<?, ?it/s]/tmp/ipykernel_34/168376217.py:37: UserWarning: torch.nn.utils.clip_grad_norm is now deprecated in favor of torch.nn.utils.clip_grad_norm_.\n  torch.nn.utils.clip_grad_norm(model.parameters(),max_norm=1)\n100%|██████████| 100/100 [00:53<00:00,  1.86it/s]\n",
          "output_type": "stream"
        },
        {
          "name": "stdout",
          "text": "total loss:  tensor(1.6061, device='cuda:0', grad_fn=<DivBackward0>)\ntrain accuracy:  0.005859375\nvalid accuracy:  0.0732421875\ntest accuracy:  0.1708984375\nepoch:  2\n",
          "output_type": "stream"
        },
        {
          "name": "stderr",
          "text": "100%|██████████| 100/100 [00:52<00:00,  1.89it/s]\n",
          "output_type": "stream"
        },
        {
          "name": "stdout",
          "text": "total loss:  tensor(0.8711, device='cuda:0', grad_fn=<DivBackward0>)\ntrain accuracy:  10.205078125\nvalid accuracy:  16.3818359375\ntest accuracy:  15.1123046875\nepoch:  3\n",
          "output_type": "stream"
        },
        {
          "name": "stderr",
          "text": "100%|██████████| 100/100 [00:52<00:00,  1.90it/s]\n",
          "output_type": "stream"
        },
        {
          "name": "stdout",
          "text": "total loss:  tensor(0.3572, device='cuda:0', grad_fn=<DivBackward0>)\ntrain accuracy:  44.365234375\nvalid accuracy:  40.5517578125\ntest accuracy:  37.841796875\nepoch:  4\n",
          "output_type": "stream"
        },
        {
          "name": "stderr",
          "text": "100%|██████████| 100/100 [00:52<00:00,  1.89it/s]\n",
          "output_type": "stream"
        },
        {
          "name": "stdout",
          "text": "total loss:  tensor(0.1953, device='cuda:0', grad_fn=<DivBackward0>)\ntrain accuracy:  57.609375\nvalid accuracy:  49.3896484375\ntest accuracy:  44.8974609375\nepoch:  5\n",
          "output_type": "stream"
        },
        {
          "name": "stderr",
          "text": " 10%|█         | 10/100 [00:04<00:47,  1.90it/s]",
          "output_type": "stream"
        }
      ]
    }
  ]
}